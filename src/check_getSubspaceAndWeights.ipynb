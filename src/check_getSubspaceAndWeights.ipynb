{
 "cells": [
  {
   "cell_type": "code",
   "execution_count": 1,
   "metadata": {
    "collapsed": true
   },
   "outputs": [],
   "source": [
    "using Chemfiles\n",
    "using DataFrames"
   ]
  },
  {
   "cell_type": "code",
   "execution_count": 2,
   "metadata": {},
   "outputs": [
    {
     "data": {
      "text/plain": [
       "meta_var (generic function with 1 method)"
      ]
     },
     "execution_count": 2,
     "metadata": {},
     "output_type": "execute_result"
    }
   ],
   "source": [
    "function meta_var(s::AbstractString,v::Any)\n",
    "         s=symbol(s) \n",
    "         @eval (($s) = ($v))\n",
    "end"
   ]
  },
  {
   "cell_type": "code",
   "execution_count": 3,
   "metadata": {},
   "outputs": [
    {
     "data": {
      "text/plain": [
       "pnum (generic function with 1 method)"
      ]
     },
     "execution_count": 3,
     "metadata": {},
     "output_type": "execute_result"
    }
   ],
   "source": [
    "function tognm(vtor_anm)\n",
    "    vtor_gnm = Array{Float64}(convert(Int64, length(vtor_anm)/3));\n",
    "    vtor_anm =  vtor_anm.^2\n",
    "    for i=1:convert(Int64, length(vtor_anm)/3)\n",
    "        vtor_gnm[i] = sqrt(vtor_anm[i*3-2] + vtor_anm[i*3-1] + vtor_anm[i*3])\n",
    "    end\n",
    "    return vtor_gnm\n",
    "end\n",
    "\n",
    "function gpnum(vtor_in::Array{Float64})\n",
    "    return 1 ./ sum(tognm(vtor_in).^4)\n",
    "end\n",
    "\n",
    "function pnum(vtor_in::Array{Float64})\n",
    "    return 1 ./ sum(vtor_in.^4)\n",
    "end"
   ]
  },
  {
   "cell_type": "code",
   "execution_count": 4,
   "metadata": {},
   "outputs": [
    {
     "data": {
      "text/plain": [
       "read_ptraj_modes (generic function with 2 methods)"
      ]
     },
     "execution_count": 4,
     "metadata": {},
     "output_type": "execute_result"
    }
   ],
   "source": [
    "function read_ptraj_modes(file, modes_elements, norma::Bool=true)    \n",
    "    modes_file=open(file, \"r\")\n",
    "    modes_text = readdlm(modes_file, skipstart=0, skipblanks=true,\n",
    "    comments=true, comment_char='\\*')\n",
    "    close(modes_file)\n",
    "\n",
    "    nmodes = modes_text[1, 5]\n",
    "    ncoords = convert(Int64, modes_elements)\n",
    "    lines = ceil(Int64, ncoords/7)\n",
    "    rest = convert(Int64, ncoords % 7)\n",
    "    \n",
    "    eval=Array{Float64}(nmodes);\n",
    "    mode = Array{Float64}(ncoords, nmodes);\n",
    "    j = lines + 1 + 2 # 1 p/ q lea la prox linea 2 por el header\n",
    "\n",
    "    for i=1:nmodes\n",
    "        eval[i] = modes_text[j, 2]\n",
    "        tmp = map(x -> if x == \"\" x = 0 else x end, modes_text[(j+1):(lines+j), :])\n",
    "        mode[:, i] = reshape(transpose(tmp), size(tmp)[1]*size(tmp)[2])[1:modes_elements]\n",
    "        j = j + lines + 1\n",
    "    end\n",
    "    \n",
    "    if norma == true\n",
    "        for i=1:nmodes\n",
    "            mode[: ,i] = mode[:, i] / norm(mode[:, i])\n",
    "        end\n",
    "    end\n",
    "    \n",
    "    return mode, eval\n",
    "end"
   ]
  },
  {
   "cell_type": "code",
   "execution_count": 12,
   "metadata": {},
   "outputs": [
    {
     "name": "stderr",
     "output_type": "stream",
     "text": [
      "\u001b[1m\u001b[33mWARNING: \u001b[39m\u001b[22m\u001b[33m[chemfiles] Unknown PDB record: TER    1945      SER   124 \u001b[39m\n",
      "\u001b[1m\u001b[33mWARNING: \u001b[39m\u001b[22m\u001b[33m[chemfiles] Unknown PDB record: TER    2077      VAL   132 \u001b[39m\n"
     ]
    }
   ],
   "source": [
    "# Get ready\n",
    "home = \"/home/german/labo/17/pdz/\"\n",
    "lb = \"run/lb/\";\n",
    "natoms = 2076;\n",
    "natoms_pdz = 1944;\n",
    "natoms_lig = natoms - natoms_pdz;\n",
    "\n",
    "# NEQ trajectory\n",
    "frame_cnt = 200000;\n",
    "in_trj_filename = string(home, lb, \"pca/\", \"full_avgfit_lb.nc\")\n",
    "in_trj = Trajectory(in_trj_filename)\n",
    "\n",
    "# Average.\n",
    "in_avg_filename = string(home, lb, \"pca/\", \"full_avg_lb.pdb\")\n",
    "in_avg_trj = Trajectory(in_avg_filename)\n",
    "in_avg_frm = read(in_avg_trj)\n",
    "in_avg_top = Topology(in_avg_frm)\n",
    "\n",
    "in_avg_frm_xyz = positions(in_avg_frm);\n",
    "natoms_system = size(in_avg_frm)\n",
    "# Obtengo los índices.\n",
    "ca_indices = [ name(Atom(in_avg_top, i)) for i=0:natoms_system-1 ] .== \"CA\";\n",
    "ca_indices_pdz = findn(ca_indices)[1:124]\n",
    "ca_indices_cut = findn(ca_indices)[12:112]\n",
    "ca_indices_lig = findn(ca_indices)[125:132]\n",
    "aa3_cut = length(ca_indices_cut) * 3\n",
    "aa36_cut = aa3_cut - 6\n",
    "\n",
    "# Obtengo las posiciones de los CA del average pdz.\n",
    "ca_avg_xyz = in_avg_frm_xyz[:, ca_indices_cut]\n",
    "# Obtengo los modos \n",
    "t0_modes, t0_evals = read_ptraj_modes(string(home, lb, \"pca/full_modes_lb\"), aa3_cut);"
   ]
  },
  {
   "cell_type": "code",
   "execution_count": 13,
   "metadata": {},
   "outputs": [
    {
     "data": {
      "text/plain": [
       "0"
      ]
     },
     "execution_count": 13,
     "metadata": {},
     "output_type": "execute_result"
    }
   ],
   "source": [
    "# Obtengo las posiciones de los CA de la corrida de NEQ y los vectores diferencia respecto\n",
    "# a su propio average\n",
    "ca_eq_xyz = Array{Array{Float64, 2}}(frame_cnt)\n",
    "Vdiff = Array{Array{Float64, 1}}(frame_cnt)\n",
    "dot_vdiff_modes = Array{Float64, 2}(aa36_cut, frame_cnt)\n",
    "pnum_t0 = Array{Float64, 1}(frame_cnt)\n",
    "\n",
    "for frame=1:frame_cnt\n",
    "    # Obtengo las posiciones de este frame\n",
    "    in_frm = read_step(in_trj, frame-1)\n",
    "    in_frms_xyz = positions(in_frm)\n",
    "    ca_eq_xyz[frame] = in_frms_xyz[:, ca_indices_cut]\n",
    "    # Obtengo el vector diferencia normalizado de los Calpha no_loop del pdz entre el frame y el avg\n",
    "    tmp = (reshape(ca_eq_xyz[frame] - ca_avg_xyz, 3 * length(ca_indices_cut)))\n",
    "    Vdiff[frame] = tmp / norm(tmp)\n",
    "    # Lo proyecto sobre todos los modos\n",
    "    for i = 1:aa36_cut\n",
    "        dot_vdiff_modes[i, frame] = dot(t0_modes[:, i], Vdiff[frame])\n",
    "    end\n",
    "end\n",
    "# Arregla Nans\n",
    "dot_vdiff_modes[isnan.(dot_vdiff_modes)] = 0"
   ]
  },
  {
   "cell_type": "code",
   "execution_count": 14,
   "metadata": {
    "collapsed": true
   },
   "outputs": [],
   "source": [
    "# Get Pnumbers\n",
    "for frame=1:frame_cnt\n",
    "    pnum_t0[frame] = pnum(dot_vdiff_modes[:, frame])\n",
    "end\n",
    "\n",
    "# Round pnums to next natural number\n",
    "pnum_t0_rounded = convert.(Int64, ceil.(pnum_t0))\n",
    "# Sort modes according to projection against Vdiff\n",
    "top_modes = mapslices(x -> sortperm(x, rev =true), abs.(dot_vdiff_modes), 1);\n",
    "top_modes_indices = map(x -> range(1,x), pnum_t0_rounded);\n",
    "\n",
    "# Get every mode that appears at least once in the essential subspaces\n",
    "pnum_indices_t0_each_frame = Array{Int64, 1}(0)\n",
    "for frame = 1:frame_cnt\n",
    "    pnum_indices_t0_each_frame = [ pnum_indices_t0_each_frame ; top_modes[:, frame][ top_modes_indices[frame] ]  ]\n",
    "end\n",
    "pnum_indices_t0 = sort(unique(pnum_indices_t0_each_frame));"
   ]
  },
  {
   "cell_type": "code",
   "execution_count": 15,
   "metadata": {
    "collapsed": true
   },
   "outputs": [],
   "source": [
    "# Now, instead of sorting modes, sort their projections with Vdiff\n",
    "top_modes_pjtions = mapslices(x -> sort(x, rev =true), abs.(dot_vdiff_modes), 1)\n",
    "\n",
    "# Get projection values for each mode of each subspacec. Later, they 'll be used as weights\n",
    "pnum_pjtions_t0_each_frame = zeros(Float64, aa36_cut, frame_cnt)\n",
    "for frame = 1:frame_cnt\n",
    "    tmp = top_modes[top_modes_indices[frame], frame]\n",
    "    for i = 1:length(tmp)\n",
    "        pnum_pjtions_t0_each_frame[tmp[i], frame] = dot_vdiff_modes[tmp[i], frame]\n",
    "    end\n",
    "end\n",
    "\n",
    "# Con los valores de proyección a c/ frame, puedo sacar el peso de c/ modo p/ todo el paso\n",
    "weights_t0a = reshape(mapslices(x -> mean(x), pnum_pjtions_t0_each_frame.^2, 2), aa36_cut)\n",
    "\n",
    "# Ahora obtengo pesos, pero sólamente teniendo en cuenta la frecuencia de aparición en los subespacios\n",
    "# esenciales de c/ frame\n",
    "not0_each_frame = copy(pnum_pjtions_t0_each_frame)\n",
    "not0_each_frame[not0_each_frame .!= 0.] = 1.\n",
    "weights_t0b = reshape(mapslices(x -> mean(x), not0_each_frame, 2), aa36_cut);"
   ]
  },
  {
   "cell_type": "code",
   "execution_count": 17,
   "metadata": {
    "scrolled": false
   },
   "outputs": [
    {
     "data": {
      "text/plain": [
       "88-element Array{Int64,1}:\n",
       "   1\n",
       "   2\n",
       "   3\n",
       "   4\n",
       "   5\n",
       "   6\n",
       "   7\n",
       "   8\n",
       "   9\n",
       "  10\n",
       "  11\n",
       "  12\n",
       "  13\n",
       "   ⋮\n",
       "  79\n",
       "  80\n",
       "  81\n",
       "  84\n",
       "  87\n",
       "  88\n",
       "  90\n",
       "  91\n",
       "  93\n",
       "  94\n",
       "  97\n",
       " 104"
      ]
     },
     "execution_count": 17,
     "metadata": {},
     "output_type": "execute_result"
    }
   ],
   "source": [
    "pnum_indices_t0"
   ]
  },
  {
   "cell_type": "code",
   "execution_count": 10,
   "metadata": {
    "scrolled": false
   },
   "outputs": [
    {
     "data": {
      "text/plain": [
       "297-element Array{Float64,1}:\n",
       " 0.676316   \n",
       " 0.0827862  \n",
       " 0.0347803  \n",
       " 0.0176177  \n",
       " 0.00843804 \n",
       " 0.00863517 \n",
       " 0.0052363  \n",
       " 0.00455151 \n",
       " 0.00335161 \n",
       " 0.00143634 \n",
       " 0.000930536\n",
       " 0.000625438\n",
       " 0.000841085\n",
       " ⋮          \n",
       " 0.0        \n",
       " 0.0        \n",
       " 0.0        \n",
       " 0.0        \n",
       " 0.0        \n",
       " 0.0        \n",
       " 0.0        \n",
       " 0.0        \n",
       " 0.0        \n",
       " 0.0        \n",
       " 0.0        \n",
       " 0.0        "
      ]
     },
     "execution_count": 10,
     "metadata": {},
     "output_type": "execute_result"
    }
   ],
   "source": [
    "weights_t0a"
   ]
  },
  {
   "cell_type": "markdown",
   "metadata": {},
   "source": [
    "## Idem, pero con la corrida sin restraints"
   ]
  },
  {
   "cell_type": "code",
   "execution_count": 14,
   "metadata": {},
   "outputs": [
    {
     "name": "stderr",
     "output_type": "stream",
     "text": [
      "\u001b[1m\u001b[33mWARNING: \u001b[39m\u001b[22m\u001b[33m[chemfiles] Unknown PDB record: TER    1945      SER   124 \u001b[39m\n",
      "\u001b[1m\u001b[33mWARNING: \u001b[39m\u001b[22m\u001b[33m[chemfiles] Unknown PDB record: TER    2077      VAL   132 \u001b[39m\n"
     ]
    }
   ],
   "source": [
    "# Get ready\n",
    "home = \"/home/german/labo/17/pdz/\"\n",
    "lb = \"run/lb/\";\n",
    "natoms = 2076;\n",
    "natoms_pdz = 1944;\n",
    "natoms_lig = natoms - natoms_pdz;\n",
    "\n",
    "# NEQ trajectory\n",
    "frame_cnt = 80000;\n",
    "in_trj_filename = string(home, lb, \"non_restrained_pca/\", \"full_avgfit_lb.nc\")\n",
    "in_trj = Trajectory(in_trj_filename)\n",
    "\n",
    "# Average.\n",
    "in_avg_filename = string(home, lb, \"non_restrained_pca/\", \"full_avg_lb.pdb\")\n",
    "in_avg_trj = Trajectory(in_avg_filename)\n",
    "in_avg_frm = read(in_avg_trj)\n",
    "in_avg_top = Topology(in_avg_frm)\n",
    "\n",
    "in_avg_frm_xyz = positions(in_avg_frm);\n",
    "natoms_system = size(in_avg_frm)\n",
    "# Obtengo los índices.\n",
    "ca_indices = [ name(Atom(in_avg_top, i)) for i=0:natoms_system-1 ] .== \"CA\";\n",
    "ca_indices_pdz = findn(ca_indices)[1:124]\n",
    "ca_indices_cut = findn(ca_indices)[12:112]\n",
    "ca_indices_lig = findn(ca_indices)[125:132]\n",
    "aa3_cut = length(ca_indices_cut) * 3\n",
    "aa36_cut = aa3_cut - 6\n",
    "\n",
    "# Obtengo las posiciones de los CA del average pdz.\n",
    "nonr_ca_avg_xyz = in_avg_frm_xyz[:, ca_indices_cut]\n",
    "# Obtengo los modos \n",
    "nonr_t0_modes, nonr_t0_evals = read_ptraj_modes(string(home, lb, \"pca/full_modes_lb\"), aa3_cut);"
   ]
  },
  {
   "cell_type": "code",
   "execution_count": 16,
   "metadata": {},
   "outputs": [
    {
     "data": {
      "text/plain": [
       "0"
      ]
     },
     "execution_count": 16,
     "metadata": {},
     "output_type": "execute_result"
    }
   ],
   "source": [
    "# Obtengo las posiciones de los CA de la corrida de NEQ y los vectores diferencia respecto\n",
    "# a su propio average\n",
    "nonr_ca_eq_xyz = Array{Array{Float64, 2}}(frame_cnt)\n",
    "nonr_Vdiff = Array{Array{Float64, 1}}(frame_cnt)\n",
    "dot_nonr_Vdiff_modes = Array{Float64, 2}(aa36_cut, frame_cnt)\n",
    "nonr_pnum_t0 = Array{Float64, 1}(frame_cnt)\n",
    "\n",
    "for frame=1:frame_cnt\n",
    "    # Obtengo las posiciones de este frame\n",
    "    in_frm = read_step(in_trj, frame-1)\n",
    "    in_frms_xyz = positions(in_frm)\n",
    "    nonr_ca_eq_xyz[frame] = in_frms_xyz[:, ca_indices_cut]\n",
    "    # Obtengo el vector diferencia normalizado de los Calpha no_loop del pdz entre el frame y el avg\n",
    "    tmp = (reshape(nonr_ca_eq_xyz[frame] - ca_avg_xyz, 3 * length(ca_indices_cut)))\n",
    "    nonr_Vdiff[frame] = tmp / norm(tmp)\n",
    "    # Lo proyecto sobre todos los modos\n",
    "    for i = 1:aa36_cut\n",
    "        dot_nonr_Vdiff_modes[i, frame] = dot(t0_modes[:, i], nonr_Vdiff[frame])\n",
    "    end\n",
    "end\n",
    "# Arregla Nans\n",
    "dot_nonr_Vdiff_modes[isnan.(dot_nonr_Vdiff_modes)] = 0"
   ]
  },
  {
   "cell_type": "code",
   "execution_count": 18,
   "metadata": {
    "collapsed": true
   },
   "outputs": [],
   "source": [
    "# Get Pnumbers\n",
    "for frame=1:frame_cnt\n",
    "    nonr_pnum_t0[frame] = pnum(dot_nonr_Vdiff_modes[:, frame])\n",
    "end\n",
    "\n",
    "# Round pnums to next natural number\n",
    "nonr_pnum_t0_rounded = convert.(Int64, ceil.(nonr_pnum_t0))\n",
    "# Sort modes according to projection against nonr_Vdiff\n",
    "nonr_top_modes = mapslices(x -> sortperm(x, rev =true), abs.(dot_nonr_Vdiff_modes), 1);\n",
    "nonr_top_modes_indices = map(x -> range(1,x), nonr_pnum_t0_rounded);\n",
    "\n",
    "# Get every mode that appears at least once in the essential subspaces\n",
    "nonr_pnum_indices_t0_each_frame = Array{Int64, 1}(0)\n",
    "for frame = 1:frame_cnt\n",
    "    nonr_pnum_indices_t0_each_frame = [ nonr_pnum_indices_t0_each_frame ; \n",
    "        nonr_top_modes[:, frame][ nonr_top_modes_indices[frame] ]  ]\n",
    "end\n",
    "nonr_pnum_indices_t0 = sort(unique(nonr_pnum_indices_t0_each_frame));"
   ]
  },
  {
   "cell_type": "code",
   "execution_count": 19,
   "metadata": {
    "collapsed": true
   },
   "outputs": [],
   "source": [
    "# Now, instead of sorting modes, sort their projections with nonr_Vdiff\n",
    "nonr_top_modes_pjtions = mapslices(x -> sort(x, rev =true), abs.(dot_nonr_Vdiff_modes), 1)\n",
    "\n",
    "# Get projection values for each mode of each subspacec. Later, they 'll be used as weights\n",
    "nonr_pnum_pjtions_t0_each_frame = zeros(Float64, aa36_cut, frame_cnt)\n",
    "for frame = 1:frame_cnt\n",
    "    tmp = nonr_top_modes[nonr_top_modes_indices[frame], frame]\n",
    "    for i = 1:length(tmp)\n",
    "        nonr_pnum_pjtions_t0_each_frame[tmp[i], frame] = dot_nonr_Vdiff_modes[tmp[i], frame]\n",
    "    end\n",
    "end\n",
    "\n",
    "# Con los valores de proyección a c/ frame, puedo sacar el peso de c/ modo p/ todo el paso\n",
    "nonr_weights_t0a = reshape(mapslices(x -> mean(x), nonr_pnum_pjtions_t0_each_frame.^2, 2), aa36_cut)\n",
    "\n",
    "# Ahora obtengo pesos, pero sólamente teniendo en cuenta la frecuencia de aparición en los subespacios\n",
    "# esenciales de c/ frame\n",
    "nonr_not0_each_frame = copy(pnum_pjtions_t0_each_frame)\n",
    "nonr_not0_each_frame[not0_each_frame .!= 0.] = 1.\n",
    "nonr_weights_t0b = reshape(mapslices(x -> mean(x), not0_each_frame, 2), aa36_cut);"
   ]
  },
  {
   "cell_type": "markdown",
   "metadata": {},
   "source": [
    "### Comparo los subespacios esenciales obtenidos"
   ]
  },
  {
   "cell_type": "code",
   "execution_count": 27,
   "metadata": {},
   "outputs": [
    {
     "data": {
      "text/html": [
       "<table class=\"data-frame\"><thead><tr><th></th><th>Restringida</th><th>Libre</th></tr></thead><tbody><tr><th>1</th><td>0.6761612183630893</td><td>0.6761073445822164</td></tr><tr><th>2</th><td>0.08386651088279434</td><td>0.08380720575628398</td></tr><tr><th>3</th><td>0.03497661069774107</td><td>0.03505321675925413</td></tr><tr><th>4</th><td>0.01806137451370029</td><td>0.018051077043892083</td></tr><tr><th>5</th><td>0.008450985905054704</td><td>0.00845228021089399</td></tr><tr><th>6</th><td>0.008692312509634275</td><td>0.008672453613159761</td></tr><tr><th>7</th><td>0.005250541079648438</td><td>0.005252592321065152</td></tr><tr><th>8</th><td>0.0045590851671689315</td><td>0.0045726614066477185</td></tr><tr><th>9</th><td>0.0033548334562125887</td><td>0.00332901630783364</td></tr><tr><th>10</th><td>0.0014359737581242532</td><td>0.0014326535334974856</td></tr><tr><th>11</th><td>0.0009327302804938098</td><td>0.0009391359881877529</td></tr><tr><th>12</th><td>0.0006287768031052217</td><td>0.0006300861538466062</td></tr><tr><th>13</th><td>0.0008415941251936306</td><td>0.0008323427478819947</td></tr><tr><th>14</th><td>0.0002477536743492514</td><td>0.0002449303870283796</td></tr><tr><th>15</th><td>0.000290832925709397</td><td>0.0002925981925244101</td></tr><tr><th>16</th><td>0.00018455512784128073</td><td>0.0001821751090637851</td></tr><tr><th>17</th><td>0.0001917704262193007</td><td>0.00019005162081277277</td></tr><tr><th>18</th><td>0.0005891784299739625</td><td>0.0005765968001487147</td></tr><tr><th>19</th><td>0.00012328024415575082</td><td>0.00012099163633038798</td></tr><tr><th>20</th><td>9.922302367908504e-5</td><td>9.937963180628018e-5</td></tr><tr><th>21</th><td>0.0001893480378966142</td><td>0.00018817602000030824</td></tr><tr><th>22</th><td>0.0001206767537259529</td><td>0.00012063470094670366</td></tr><tr><th>23</th><td>6.959957253557996e-5</td><td>6.712565273587237e-5</td></tr><tr><th>24</th><td>3.038796678278759e-5</td><td>2.9515399868823726e-5</td></tr><tr><th>25</th><td>7.767666114654232e-5</td><td>7.521940177993846e-5</td></tr><tr><th>26</th><td>2.1823871505011194e-5</td><td>2.2097532973526175e-5</td></tr><tr><th>27</th><td>3.3283779512058356e-5</td><td>3.295958723109165e-5</td></tr><tr><th>28</th><td>1.1702662312018059e-5</td><td>1.0565637911880635e-5</td></tr><tr><th>29</th><td>4.9180677935167835e-5</td><td>4.8123014196171514e-5</td></tr><tr><th>30</th><td>6.4259403800449945e-6</td><td>6.328700845730337e-6</td></tr><tr><th>&vellip;</th><td>&vellip;</td><td>&vellip;</td></tr></tbody></table>"
      ],
      "text/plain": [
       "297×2 DataFrames.DataFrame\n",
       "│ Row │ Restringida │ Libre       │\n",
       "├─────┼─────────────┼─────────────┤\n",
       "│ 1   │ 0.676161    │ 0.676107    │\n",
       "│ 2   │ 0.0838665   │ 0.0838072   │\n",
       "│ 3   │ 0.0349766   │ 0.0350532   │\n",
       "│ 4   │ 0.0180614   │ 0.0180511   │\n",
       "│ 5   │ 0.00845099  │ 0.00845228  │\n",
       "│ 6   │ 0.00869231  │ 0.00867245  │\n",
       "│ 7   │ 0.00525054  │ 0.00525259  │\n",
       "│ 8   │ 0.00455909  │ 0.00457266  │\n",
       "│ 9   │ 0.00335483  │ 0.00332902  │\n",
       "│ 10  │ 0.00143597  │ 0.00143265  │\n",
       "│ 11  │ 0.00093273  │ 0.000939136 │\n",
       "⋮\n",
       "│ 286 │ 0.0         │ 0.0         │\n",
       "│ 287 │ 0.0         │ 0.0         │\n",
       "│ 288 │ 0.0         │ 0.0         │\n",
       "│ 289 │ 0.0         │ 0.0         │\n",
       "│ 290 │ 0.0         │ 0.0         │\n",
       "│ 291 │ 0.0         │ 0.0         │\n",
       "│ 292 │ 0.0         │ 0.0         │\n",
       "│ 293 │ 0.0         │ 0.0         │\n",
       "│ 294 │ 0.0         │ 0.0         │\n",
       "│ 295 │ 0.0         │ 0.0         │\n",
       "│ 296 │ 0.0         │ 0.0         │\n",
       "│ 297 │ 0.0         │ 0.0         │"
      ]
     },
     "execution_count": 27,
     "metadata": {},
     "output_type": "execute_result"
    }
   ],
   "source": [
    "DataFrame(Restringida = weights_t0a, Libre = nonr_weights_t0a)"
   ]
  },
  {
   "cell_type": "code",
   "execution_count": 26,
   "metadata": {},
   "outputs": [
    {
     "data": {
      "text/html": [
       "<table class=\"data-frame\"><thead><tr><th></th><th>Restringida</th><th>Libre</th></tr></thead><tbody><tr><th>1</th><td>1</td><td>1</td></tr><tr><th>2</th><td>2</td><td>2</td></tr><tr><th>3</th><td>3</td><td>3</td></tr><tr><th>4</th><td>4</td><td>4</td></tr><tr><th>5</th><td>5</td><td>5</td></tr><tr><th>6</th><td>6</td><td>6</td></tr><tr><th>7</th><td>7</td><td>7</td></tr><tr><th>8</th><td>8</td><td>8</td></tr><tr><th>9</th><td>9</td><td>9</td></tr><tr><th>10</th><td>10</td><td>10</td></tr><tr><th>11</th><td>11</td><td>11</td></tr><tr><th>12</th><td>12</td><td>12</td></tr><tr><th>13</th><td>13</td><td>13</td></tr><tr><th>14</th><td>14</td><td>14</td></tr><tr><th>15</th><td>15</td><td>15</td></tr><tr><th>16</th><td>16</td><td>16</td></tr><tr><th>17</th><td>17</td><td>17</td></tr><tr><th>18</th><td>18</td><td>18</td></tr><tr><th>19</th><td>19</td><td>19</td></tr><tr><th>20</th><td>20</td><td>20</td></tr><tr><th>21</th><td>21</td><td>21</td></tr><tr><th>22</th><td>22</td><td>22</td></tr><tr><th>23</th><td>23</td><td>23</td></tr><tr><th>24</th><td>24</td><td>24</td></tr><tr><th>25</th><td>25</td><td>25</td></tr><tr><th>26</th><td>26</td><td>26</td></tr><tr><th>27</th><td>27</td><td>27</td></tr><tr><th>28</th><td>28</td><td>28</td></tr><tr><th>29</th><td>29</td><td>29</td></tr><tr><th>30</th><td>30</td><td>30</td></tr><tr><th>&vellip;</th><td>&vellip;</td><td>&vellip;</td></tr></tbody></table>"
      ],
      "text/plain": [
       "48×2 DataFrames.DataFrame\n",
       "│ Row │ Restringida │ Libre │\n",
       "├─────┼─────────────┼───────┤\n",
       "│ 1   │ 1           │ 1     │\n",
       "│ 2   │ 2           │ 2     │\n",
       "│ 3   │ 3           │ 3     │\n",
       "│ 4   │ 4           │ 4     │\n",
       "│ 5   │ 5           │ 5     │\n",
       "│ 6   │ 6           │ 6     │\n",
       "│ 7   │ 7           │ 7     │\n",
       "│ 8   │ 8           │ 8     │\n",
       "│ 9   │ 9           │ 9     │\n",
       "│ 10  │ 10          │ 10    │\n",
       "│ 11  │ 11          │ 11    │\n",
       "⋮\n",
       "│ 37  │ 37          │ 37    │\n",
       "│ 38  │ 38          │ 38    │\n",
       "│ 39  │ 39          │ 39    │\n",
       "│ 40  │ 40          │ 40    │\n",
       "│ 41  │ 41          │ 41    │\n",
       "│ 42  │ 42          │ 42    │\n",
       "│ 43  │ 43          │ 43    │\n",
       "│ 44  │ 44          │ 44    │\n",
       "│ 45  │ 46          │ 46    │\n",
       "│ 46  │ 47          │ 47    │\n",
       "│ 47  │ 48          │ 48    │\n",
       "│ 48  │ 54          │ 54    │"
      ]
     },
     "execution_count": 26,
     "metadata": {},
     "output_type": "execute_result"
    }
   ],
   "source": [
    "DataFrame(Restringida = pnum_indices_t0, Libre = nonr_pnum_indices_t0)"
   ]
  }
 ],
 "metadata": {
  "kernelspec": {
   "display_name": "Julia 0.6.0",
   "language": "julia",
   "name": "julia-0.6"
  },
  "language_info": {
   "file_extension": ".jl",
   "mimetype": "application/julia",
   "name": "julia",
   "version": "0.6.0"
  }
 },
 "nbformat": 4,
 "nbformat_minor": 2
}
