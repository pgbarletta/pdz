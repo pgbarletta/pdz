{
 "cells": [
  {
   "cell_type": "code",
   "execution_count": 1,
   "metadata": {
    "collapsed": true
   },
   "outputs": [],
   "source": [
    "using Chemfiles\n",
    "using DataFrames"
   ]
  },
  {
   "cell_type": "code",
   "execution_count": 2,
   "metadata": {},
   "outputs": [
    {
     "data": {
      "text/plain": [
       "meta_var (generic function with 1 method)"
      ]
     },
     "execution_count": 2,
     "metadata": {},
     "output_type": "execute_result"
    }
   ],
   "source": [
    "function meta_var(s::AbstractString,v::Any)\n",
    "         s=symbol(s) \n",
    "         @eval (($s) = ($v))\n",
    "end"
   ]
  },
  {
   "cell_type": "code",
   "execution_count": 3,
   "metadata": {},
   "outputs": [
    {
     "data": {
      "text/plain": [
       "tognm (generic function with 1 method)"
      ]
     },
     "execution_count": 3,
     "metadata": {},
     "output_type": "execute_result"
    }
   ],
   "source": [
    "function tognm(vtor_anm)\n",
    "    vtor_gnm = Array{Float64}(convert(Int64, length(vtor_anm)/3));\n",
    "    vtor_anm =  vtor_anm.^2\n",
    "    for i=1:convert(Int64, length(vtor_anm)/3)\n",
    "        vtor_gnm[i] = sqrt(vtor_anm[i*3-2] + vtor_anm[i*3-1] + vtor_anm[i*3])\n",
    "    end\n",
    "    return vtor_gnm\n",
    "end"
   ]
  },
  {
   "cell_type": "code",
   "execution_count": 4,
   "metadata": {},
   "outputs": [
    {
     "data": {
      "text/plain": [
       "read_ptraj_modes (generic function with 2 methods)"
      ]
     },
     "execution_count": 4,
     "metadata": {},
     "output_type": "execute_result"
    }
   ],
   "source": [
    "function read_ptraj_modes(file, modes_elements, norma::Bool=true)    \n",
    "    modes_file=open(file, \"r\")\n",
    "    modes_text = readdlm(modes_file, skipstart=0, skipblanks=true,\n",
    "    comments=true, comment_char='\\*')\n",
    "    close(modes_file)\n",
    "\n",
    "    nmodes = modes_text[1, 5]\n",
    "    ncoords = convert(Int64, modes_elements)\n",
    "    lines = ceil(Int64, ncoords/7)\n",
    "    rest = convert(Int64, ncoords % 7)\n",
    "    \n",
    "    eval=Array{Float64}(nmodes);\n",
    "    mode = Array{Float64}(ncoords, nmodes);\n",
    "    j = lines + 1 + 2 # 1 p/ q lea la prox linea 2 por el header\n",
    "\n",
    "    for i=1:nmodes\n",
    "        eval[i] = modes_text[j, 2]\n",
    "        tmp = map(x -> if x == \"\" x = 0 else x end, modes_text[(j+1):(lines+j), :])\n",
    "        mode[:, i] = reshape(transpose(tmp), size(tmp)[1]*size(tmp)[2])[1:modes_elements]\n",
    "        j = j + lines + 1\n",
    "    end\n",
    "    \n",
    "    if norma == true\n",
    "        for i=1:nmodes\n",
    "            mode[: ,i] = mode[:, i] / norm(mode[:, i])\n",
    "        end\n",
    "    end\n",
    "    \n",
    "    return mode, eval\n",
    "end"
   ]
  },
  {
   "cell_type": "code",
   "execution_count": 5,
   "metadata": {},
   "outputs": [
    {
     "name": "stderr",
     "output_type": "stream",
     "text": [
      "\u001b[1m\u001b[33mWARNING: \u001b[39m\u001b[22m\u001b[33m[chemfiles] Unknown PDB record: TER    1945      SER   124 \u001b[39m\n",
      "\u001b[1m\u001b[33mWARNING: \u001b[39m\u001b[22m\u001b[33m[chemfiles] Unknown PDB record: TER    2077      VAL   132 \u001b[39m\n"
     ]
    }
   ],
   "source": [
    "# Get ready\n",
    "home = \"/home/german/labo/17/pdz/\"\n",
    "neq = \"run/lb/neq/\";\n",
    "natoms = 2076;\n",
    "natoms_pdz = 1944;\n",
    "natoms_lig = natoms - natoms_pdz;\n",
    "\n",
    "# NEQ trajectory\n",
    "frame_cnt = 400;\n",
    "in_trj_filename = string(home, neq, \"starting_frames/\", \"starting_frames.nc\")\n",
    "in_trj = Trajectory(in_trj_filename)\n",
    "\n",
    "# Average.\n",
    "in_avg_filename = string(home, neq, \"pca/t0/\", \"avg_t0_lb.pdb\")\n",
    "in_avg_trj = Trajectory(in_avg_filename)\n",
    "in_avg_frm = read(in_avg_trj)\n",
    "in_avg_top = Topology(in_avg_frm)\n",
    "\n",
    "in_avg_frm_xyz = positions(in_avg_frm);\n",
    "natoms_system = size(in_avg_frm)\n",
    "# Obtengo los índices.\n",
    "ca_indices = [ name(Atom(in_avg_top, i)) for i=0:natoms_system-1 ] .== \"CA\";\n",
    "ca_indices_pdz = findn(ca_indices)[1:124]\n",
    "ca_indices_cut = findn(ca_indices)[12:112]\n",
    "ca_indices_lig = findn(ca_indices)[125:132]\n",
    "aa3_cut = length(ca_indices_cut) * 3\n",
    "aa36_cut = aa3_cut - 6\n",
    "\n",
    "# Obtengo las posiciones de los CA del average pdz.\n",
    "ca_avg_xyz = in_avg_frm_xyz[:, ca_indices_cut]\n",
    "# Obtengo los modos a t0\n",
    "t0_modes, t0_evals = read_ptraj_modes(string(home, neq, \"pca/t0/modes_neq_t0\"), aa3_cut);"
   ]
  },
  {
   "cell_type": "code",
   "execution_count": 6,
   "metadata": {},
   "outputs": [],
   "source": [
    "# Obtengo las posiciones de los CA de la corrida de NEQ y los vectores diferencia respecto\n",
    "# a su propio average\n",
    "ca_neq_xyz = Array{Array{Float64, 2}}(frame_cnt)\n",
    "Vdiff = Array{Array{Float64, 1}}(frame_cnt)\n",
    "dot_vdiff_modes = Array{Float64, 2}(aa3_cut, frame_cnt)\n",
    "\n",
    "for frame=1:frame_cnt\n",
    "    # Obtengo las posiciones de este frame\n",
    "    in_frm = read_step(in_trj, frame-1)\n",
    "    in_frms_xyz = positions(in_frm)\n",
    "    ca_neq_xyz[frame] = in_frms_xyz[:, ca_indices_cut]\n",
    "    # Obtengo el vector diferencia normalizado de los Calpha no_loop del pdz entre el frame y el avg\n",
    "    tmp = (reshape(ca_neq_xyz[frame] - ca_avg_xyz, 3 * length(ca_indices_cut)))\n",
    "    Vdiff[frame] = tmp / norm(tmp)\n",
    "    # Lo proyecto sobre todos los modos\n",
    "    for i = 1:aa36_cut\n",
    "        dot_vdiff_modes[i, frame] = dot(t0_modes[:, i], Vdiff[frame])\n",
    "    end\n",
    "end"
   ]
  },
  {
   "cell_type": "code",
   "execution_count": 10,
   "metadata": {},
   "outputs": [
    {
     "data": {
      "text/plain": [
       "303×400 Array{Float64,2}:\n",
       " -0.709669      -0.835337      …    0.935151        0.910403    \n",
       " -0.264781      -0.209699           0.0577853       0.00506025  \n",
       "  0.0359806      0.101357           0.0482056       0.182226    \n",
       "  0.153786      -0.0629837         -0.000668592     0.0407112   \n",
       " -0.259376      -0.142479          -0.0879336       0.0342445   \n",
       "  0.0132744     -0.06617       …   -0.016405       -0.119227    \n",
       "  0.350303       0.0868219          0.0263943      -0.029716    \n",
       "  0.0435508      0.216532           0.0284923       0.127267    \n",
       " -0.202351      -0.131636          -0.0325137       0.105089    \n",
       "  0.0814332      0.141125          -0.184082       -0.106937    \n",
       "  0.0402901     -0.0311414     …    0.0613398       0.118147    \n",
       "  0.064261      -0.0634924          0.0679915       0.0777536   \n",
       "  0.0970278      0.0976231          0.0195981       0.0156547   \n",
       "  ⋮                            ⋱                                \n",
       "  0.000481528   -0.000834308        0.00114612      0.00113037  \n",
       " -0.000346062   -0.00034774         0.000218084     4.67486e-6  \n",
       "  0.000154017    0.000169618       -7.46851e-5      0.000334423 \n",
       " -2.43373e-5     0.000155722       -0.000884702    -9.9919e-6   \n",
       "  3.68094e-6    -4.76499e-5    …    0.00031071     -3.63887e-5  \n",
       "  0.00010836    -0.000371762        0.000211151     0.000608489 \n",
       "  4.17321e-316   0.0                5.11525e-316    4.64097e-316\n",
       "  7.42781e-313   0.0                4.45361e-316    3.30948e-316\n",
       "  5.1798e-316    5.31411e-313       4.51491e-316  NaN           \n",
       "  5.18051e-316   5.17992e-316  …  NaN               4.47372e-316\n",
       "  5.53182e-316   0.0                5.03415e-316  NaN           \n",
       "  7.63918e-313   0.0              NaN               5.03413e-316"
      ]
     },
     "execution_count": 10,
     "metadata": {},
     "output_type": "execute_result"
    }
   ],
   "source": [
    "dot_vdiff_modes"
   ]
  },
  {
   "cell_type": "code",
   "execution_count": 8,
   "metadata": {},
   "outputs": [
    {
     "data": {
      "text/plain": [
       "20.365651518364512"
      ]
     },
     "execution_count": 8,
     "metadata": {},
     "output_type": "execute_result"
    }
   ],
   "source": [
    "tmp = (reshape(ca_neq_xyz[100] - ca_avg_xyz, 3 * length(ca_indices_cut)))\n",
    "norm(tmp)"
   ]
  },
  {
   "cell_type": "code",
   "execution_count": 9,
   "metadata": {},
   "outputs": [
    {
     "data": {
      "text/plain": [
       "303×297 Array{Float64,2}:\n",
       " -0.0756185     0.0191297   -0.0216942   …  -0.01459       0.0559688  \n",
       " -0.00384677    0.00575278  -0.0531959       0.00436659   -0.0320218  \n",
       " -0.0487604     0.0193377    0.0257835       0.0233231    -0.0522606  \n",
       " -0.0650485     0.0107085   -0.00686175      0.00211398   -0.123062   \n",
       "  0.000242589  -0.0112283   -0.0313284      -0.000831731   0.0607859  \n",
       " -0.0370468     0.0183673    0.0286946   …  -0.0472701     0.0351408  \n",
       " -0.06037       0.00398536   0.0261301      -0.0541318     0.0869856  \n",
       "  0.0102581    -0.0179861   -0.00301501      0.0261649    -0.0580135  \n",
       " -0.0258184     0.015179     0.0185406       0.0346208    -0.0117136  \n",
       " -0.0540974     0.00537157   0.0248132       0.0822374    -0.0321604  \n",
       "  0.01258      -0.0128571   -0.00453984  …  -0.050597      0.0221103  \n",
       " -0.014694      0.00942624   0.01206        -0.0385369     0.0700043  \n",
       " -0.047894      0.00169811   0.0330612      -0.00176743    0.0776285  \n",
       "  ⋮                                      ⋱   ⋮                        \n",
       " -0.0404084    -0.00509433   0.035591       -0.162049     -0.108368   \n",
       " -0.00194071   -0.00658451  -0.0204813       0.051706     -0.00363884 \n",
       " -0.0294919     0.0151444    0.0184366       0.094956      0.0253679  \n",
       " -0.0504239     0.00287639   0.0158721       0.117898      0.0363191  \n",
       " -0.00963425   -0.00519829  -0.0378089   …  -0.0548596    -0.0480673  \n",
       " -0.0437354     0.0300808    0.00440122     -0.0905547     0.000103967\n",
       " -0.0557262     0.0135849    0.0115056      -0.0780788     0.0349328  \n",
       " -0.0150059    -0.0146245   -0.0520176       0.0280016    -0.0264769  \n",
       " -0.0504239     0.0370119   -0.00173277      0.0413093    -0.0301504  \n",
       " -0.0574936     0.0176049   -0.00804003  …   0.0219716    -0.00485178 \n",
       " -0.0179169    -0.0425914   -0.0409279      -0.0267887     0.0191299  \n",
       " -0.0414134    -0.0274123   -0.0726375      -0.00946094    0.00935701 "
      ]
     },
     "execution_count": 9,
     "metadata": {},
     "output_type": "execute_result"
    }
   ],
   "source": [
    "t0_modes"
   ]
  },
  {
   "cell_type": "code",
   "execution_count": null,
   "metadata": {
    "collapsed": true
   },
   "outputs": [],
   "source": []
  }
 ],
 "metadata": {
  "kernelspec": {
   "display_name": "Julia 0.6.0",
   "language": "julia",
   "name": "julia-0.6"
  },
  "language_info": {
   "file_extension": ".jl",
   "mimetype": "application/julia",
   "name": "julia",
   "version": "0.6.0"
  }
 },
 "nbformat": 4,
 "nbformat_minor": 2
}
