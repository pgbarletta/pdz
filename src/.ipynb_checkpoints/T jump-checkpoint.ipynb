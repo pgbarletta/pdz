{
 "cells": [
  {
   "cell_type": "code",
   "execution_count": 2,
   "metadata": {
    "collapsed": false
   },
   "outputs": [],
   "source": [
    "using DataFrames\n",
    "using Gadfly\n",
    "using Cairo\n",
    "using MIToS.PDB\n",
    "using Compose\n",
    "using Distributions\n",
    "using Formatting\n",
    "set_default_plot_size(40cm, 14cm)"
   ]
  },
  {
   "cell_type": "code",
   "execution_count": 3,
   "metadata": {
    "collapsed": false
   },
   "outputs": [
    {
     "data": {
      "text/plain": [
       "meta_var (generic function with 1 method)"
      ]
     },
     "execution_count": 3,
     "metadata": {},
     "output_type": "execute_result"
    }
   ],
   "source": [
    "function meta_var(s::AbstractString,v::Any)\n",
    "         s=symbol(s) \n",
    "         @eval (($s) = ($v))\n",
    "end"
   ]
  },
  {
   "cell_type": "code",
   "execution_count": 4,
   "metadata": {
    "collapsed": false
   },
   "outputs": [
    {
     "data": {
      "text/plain": [
       "tognm (generic function with 1 method)"
      ]
     },
     "execution_count": 4,
     "metadata": {},
     "output_type": "execute_result"
    }
   ],
   "source": [
    "function tognm(vtor_anm)\n",
    "    vtor_gnm = Array{Float64}(convert(Int64, length(vtor_anm)/3));\n",
    "    vtor_anm =  vtor_anm.^2\n",
    "    for i=1:convert(Int64, length(vtor_anm)/3)\n",
    "        vtor_gnm[i] = sqrt(vtor_anm[i*3-2] + vtor_anm[i*3-1] + vtor_anm[i*3])\n",
    "    end\n",
    "    return vtor_gnm\n",
    "end"
   ]
  },
  {
   "cell_type": "code",
   "execution_count": 5,
   "metadata": {
    "collapsed": false
   },
   "outputs": [
    {
     "data": {
      "text/plain": [
       "read_ptraj_modes (generic function with 2 methods)"
      ]
     },
     "execution_count": 5,
     "metadata": {},
     "output_type": "execute_result"
    }
   ],
   "source": [
    "function read_ptraj_modes(file, modes_elements, norma::Bool=true)\n",
    "    modes_file=open(file, \"r\")\n",
    "    modes_text = readdlm(modes_file, skipstart=0, skipblanks=true, \n",
    "    ignore_invalid_chars=true, comments=true, comment_char='\\*')\n",
    "    close(modes_file)\n",
    "\n",
    "    nmodes = modes_text[1, 5]\n",
    "    ncoords = convert(Int64, modes_elements)\n",
    "    lines = ceil(Int64, ncoords/7)\n",
    "    rest = convert(Int64, ncoords % 7)\n",
    "    \n",
    "    eval=Array{Float64}(nmodes);\n",
    "    mode = Array{Float64}(ncoords, nmodes);\n",
    "    temp1=Array{Float64}(ncoords, 1);\n",
    "    temp2 = Array{Float64}(ncoords+(7-rest));\n",
    "\n",
    "    j=lines + 1 + 2 # 1 p/ q lea la prox linea 2 por el header\n",
    "\n",
    "    for i=1:nmodes\n",
    "        eval[i] = modes_text[j, 2]\n",
    "        temp = transpose(modes_text[(j+1):(lines+j), :])\n",
    "        temp2 = reshape(temp, ncoords+(7-rest))\n",
    "        for k=(rest+1):7\n",
    "            pop!(temp2)\n",
    "        end\n",
    "    mode[:, i] = temp2\n",
    "        j = j + lines + 1\n",
    "    end\n",
    "    \n",
    "    if norma == true\n",
    "        for i=1:nmodes\n",
    "            mode[: ,i] = mode[:, i] / norm(mode[:, i])\n",
    "        end\n",
    "    end\n",
    "    \n",
    "    return mode, eval\n",
    "end"
   ]
  },
  {
   "cell_type": "code",
   "execution_count": 6,
   "metadata": {
    "collapsed": false
   },
   "outputs": [
    {
     "data": {
      "text/plain": [
       "WeightedHist (generic function with 2 methods)"
      ]
     },
     "execution_count": 6,
     "metadata": {},
     "output_type": "execute_result"
    }
   ],
   "source": [
    "function WeightedHist(in_vec, in_bins, in_weight, density = false)\n",
    "    # Safety check    \n",
    "    if length(in_vec) != length(in_weight)\n",
    "        println(\"Each element of the input vector needs one weight\")\n",
    "        return\n",
    "    end\n",
    "    \n",
    "    # Prepare variables\n",
    "    out_counts = Array{Float64}(length(in_bins)-1)\n",
    "    \n",
    "    # Get weighted histogram\n",
    "    for i=1:length(in_bins)-1\n",
    "        temp_bool = (in_vec .>= in_bins[i]) & (in_vec .< in_bins[i+1])\n",
    "        out_counts[i] = sum(in_weight[temp_bool])\n",
    "    end\n",
    "    \n",
    "    # Get bins middle points\n",
    "    out_middle = (in_bins[1:end-1] + in_bins[2:end]) / 2\n",
    "    \n",
    "    # Turn counts into density\n",
    "    if (density == true)\n",
    "        out_counts = out_counts ./ sum(out_counts) \n",
    "    end\n",
    "    return out_counts, out_middle\n",
    "end"
   ]
  },
  {
   "cell_type": "code",
   "execution_count": 7,
   "metadata": {
    "collapsed": false
   },
   "outputs": [
    {
     "data": {
      "text/plain": [
       "read_rst7 (generic function with 4 methods)"
      ]
     },
     "execution_count": 7,
     "metadata": {},
     "output_type": "execute_result"
    }
   ],
   "source": [
    "function read_rst7(file, velocities = true, box_dims = true, box_angles = true)\n",
    "    # Read\n",
    "    rst7_file=open(file, \"r\")\n",
    "    rst7_text = readdlm(rst7_file, skipstart=1)\n",
    "    close(rst7_file)\n",
    "\n",
    "    # Get ready\n",
    "    natoms = rst7_text[1, 1]\n",
    "    time_ps = rst7_text[1, 2]\n",
    "    nrows = convert(Int64, ceil(natoms / 2))\n",
    "\n",
    "    coords = Array{Float64}(3, natoms)\n",
    "    vels = Array{Float64}(3, natoms)\n",
    "    bdims = Array{Float64}(3)\n",
    "    bangles = Array{Float64}(3)\n",
    "\n",
    "    # Get coordinates\n",
    "    orig_coords = rst7_text[2:(nrows+1), :]\n",
    "    for i=1:nrows\n",
    "        coords[:, (i*2-1)] = reshape(orig_coords[i, 1:3], 3)\n",
    "        try\n",
    "            coords[:, (i*2)] = reshape(orig_coords[i, 4:6], 3)\n",
    "        end\n",
    "    end\n",
    "\n",
    "    # Get velocities?\n",
    "    if velocities\n",
    "        try\n",
    "            orig_vels = rst7_text[(nrows+2):(end-1), :]\n",
    "            for i=1:nrows\n",
    "                vels[:, (i*2-1)] = reshape(orig_vels[i, 1:3], 3)\n",
    "                try\n",
    "                    vels[:, (i*2)] = reshape(orig_vels[i, 4:6], 3)\n",
    "                end\n",
    "            end\n",
    "        catch\n",
    "            error(\"Could not read velocities\")\n",
    "        end\n",
    "    end\n",
    "\n",
    "    # Get box size?\n",
    "    if box_dims\n",
    "        try\n",
    "            bdims = convert(Array{Float64}, rst7_text[end, 1:3])\n",
    "        catch\n",
    "            error(\"Could not read box dimensions\")\n",
    "        end\n",
    "    end\n",
    "\n",
    "    # Get box angles?\n",
    "    if box_angles\n",
    "        try\n",
    "            bangles = convert(Array{Float64}, rst7_text[end, 4:6])\n",
    "        catch\n",
    "            error(\"Could not read box angles\")\n",
    "        end\n",
    "    end\n",
    "\n",
    "    return coords, vels, bdims, bangles, natoms\n",
    "end"
   ]
  },
  {
   "cell_type": "code",
   "execution_count": 46,
   "metadata": {
    "collapsed": false
   },
   "outputs": [
    {
     "data": {
      "text/plain": [
       "write_rst7 (generic function with 6 methods)"
      ]
     },
     "execution_count": 46,
     "metadata": {},
     "output_type": "execute_result"
    }
   ],
   "source": []
  },
  {
   "cell_type": "code",
   "execution_count": 47,
   "metadata": {
    "collapsed": false
   },
   "outputs": [
    {
     "data": {
      "text/plain": [
       "read_amber_crd (generic function with 4 methods)"
      ]
     },
     "execution_count": 47,
     "metadata": {},
     "output_type": "execute_result"
    }
   ],
   "source": [
    "function read_amber_crd(filename_top, filename_rst7, velocities = true, box_dims = true, box_angles = true)\n",
    "    # Read topology\n",
    "    top_file=open(filename_top, \"r\")\n",
    "    top_text = readdlm(top_file)\n",
    "    close(top_file)\n",
    "\n",
    "    # Look for the relevant flags\n",
    "    match_sp = convert(Int64, find(x -> x == \"SOLVENT_POINTERS\", top_text[:, 2])[1])\n",
    "    match_apm = convert(Int64, find(x -> x == \"ATOMS_PER_MOLECULE\", top_text[:, 2])[1])\n",
    "    match_rl = convert(Int64, find(x -> x == \"RESIDUE_LABEL\", top_text[:, 2])[1])\n",
    "    match_an = convert(Int64, find(x -> x == \"ATOM_NAME\", top_text[:, 2])[1])\n",
    "    sum_natoms_all = convert(Int64, top_text[7, 1])\n",
    "\n",
    "    # Start off with solvent pointers\n",
    "    # Final residue that is considered part of the solute\n",
    "    iptres = top_text[match_sp + 2, :][1]\n",
    "    # Total number of molecules\n",
    "    nspm = top_text[match_sp + 2, :][2]\n",
    "    # The 1st solvent molecule\n",
    "    nspsol = top_text[match_sp + 2, :][3]\n",
    "\n",
    "    # Now, Atoms per molecule flag\n",
    "    natoms_each_mol_str = top_text[match_apm + 2, :]\n",
    "    natoms_each_mol = [0]\n",
    "    sum_natoms = 0\n",
    "    for i=1:nspsol-1\n",
    "        natom_mol_str = natoms_each_mol_str[i]\n",
    "    \n",
    "        if natom_mol_str != \"\"\n",
    "            each = convert(Int64, natom_mol_str)\n",
    "            sum_natoms = sum_natoms + each\n",
    "            push!(natoms_each_mol, sum_natoms)\n",
    "        else\n",
    "            break\n",
    "        end\n",
    "    end\n",
    "        \n",
    "    # Read coordinates\n",
    "    rst7_file=open(filename_rst7, \"r\")\n",
    "    rst7_text = readdlm(rst7_file, skipstart=1)\n",
    "    close(rst7_file)\n",
    "\n",
    "    # Get ready\n",
    "    natoms = rst7_text[1, 1]\n",
    "    time_ps = rst7_text[1, 2]\n",
    "    nrows = convert(Int64, ceil(natoms / 2))\n",
    "\n",
    "    coords = Array{Float64}(3, natoms)\n",
    "    vels = Array{Float64}(3, natoms)\n",
    "    bdims = Array{Float64}(3)\n",
    "    bangles = Array{Float64}(3)\n",
    "\n",
    "    # Get coordinates\n",
    "    orig_coords = rst7_text[2:(nrows+1), :]\n",
    "    for i=1:nrows\n",
    "        coords[:, (i*2-1)] = reshape(orig_coords[i, 1:3], 3)\n",
    "        try\n",
    "            coords[:, (i*2)] = reshape(orig_coords[i, 4:6], 3)\n",
    "        end\n",
    "    end\n",
    "    # One Array{Float64, 2} for each molecule, and the last one for water\n",
    "    sys_coords = Array{Array{Float64, 2}}(length(natoms_each_mol))\n",
    "    for i = 1:length(natoms_each_mol)\n",
    "        lo_margin = natoms_each_mol[i] + 1\n",
    "        try\n",
    "            hi_margin = natoms_each_mol[i+1]\n",
    "            sys_coords[i] = coords[:, lo_margin:hi_margin]\n",
    "        catch\n",
    "            sys_coords[i] = coords[:, lo_margin:end]\n",
    "        end\n",
    "    end\n",
    "\n",
    "\n",
    "    # Get velocities?\n",
    "    if velocities\n",
    "        try\n",
    "            orig_vels = rst7_text[(nrows+2):(end-1), :]\n",
    "            for i=1:nrows\n",
    "                vels[:, (i*2-1)] = reshape(orig_vels[i, 1:3], 3)\n",
    "                try\n",
    "                    vels[:, (i*2)] = reshape(orig_vels[i, 4:6], 3)\n",
    "                end\n",
    "            end\n",
    "        catch\n",
    "            error(\"Could not read velocities\")\n",
    "        end\n",
    "    end\n",
    "    # One Array{Float64, 2} for each molecule, and the last one for water\n",
    "    sys_vels = Array{Array{Float64, 2}}(length(natoms_each_mol))\n",
    "    for i = 1:length(natoms_each_mol)\n",
    "        lo_margin = natoms_each_mol[i] + 1\n",
    "        try\n",
    "            hi_margin = natoms_each_mol[i+1]\n",
    "            sys_vels[i] = vels[:, lo_margin:hi_margin]\n",
    "        catch\n",
    "            sys_vels[i] = vels[:, lo_margin:end]\n",
    "        end\n",
    "    end\n",
    "\n",
    "    # Get box size?\n",
    "    if box_dims\n",
    "        try\n",
    "            bdims = convert(Array{Float64}, rst7_text[end, 1:3])\n",
    "        catch\n",
    "            error(\"Could not read box dimensions\")\n",
    "        end\n",
    "        bdims = reshape(bdims, length(bdims))\n",
    "    end\n",
    "\n",
    "    # Get box angles?\n",
    "    if box_angles\n",
    "        try\n",
    "            bangles = convert(Array{Float64}, rst7_text[end, 4:6])\n",
    "        catch\n",
    "            error(\"Could not read box angles\")\n",
    "        end\n",
    "        bangles = reshape(bangles, length(bangles))\n",
    "    end\n",
    "\n",
    "    # Get number of atoms of each system\n",
    "    nnatoms_each_mol = Array{Int64}(length(natoms_each_mol))\n",
    "    for i = 1:length(nnatoms_each_mol)\n",
    "        nnatoms_each_mol[i] = size(sys_coords[i])[2]\n",
    "    end\n",
    "    \n",
    "    # Finally atom names, again from .prmtop\n",
    "    top_file=open(filename_top, \"r\")\n",
    "    nlines_an = convert(Int64, ceil(sum_natoms_all / 20))\n",
    "    testeo = AbstractString\n",
    "    cnt = 0\n",
    "    atom_names = Array{Array{AbstractString, 1}}(length(nnatoms_each_mol))\n",
    "    atom_names_full = Array{AbstractString, 1}((nlines_an-1)*20)\n",
    "\n",
    "    for linea in eachline(top_file)\n",
    "        try\n",
    "            testeo = linea[1:15]\n",
    "        end\n",
    "        if testeo == \"%FLAG ATOM_NAME\"\n",
    "            for linea in eachline(top_file) \n",
    "                break\n",
    "            end\n",
    "            for linea in eachline(top_file)\n",
    "                # Found the atom names\n",
    "                cnt+=1\n",
    "                if cnt == nlines_an\n",
    "                    resto = convert(Int64, floor(length(linea) / 4))\n",
    "                    append!(atom_names_full, [ rstrip(linea[(4*(i-1)+1):(4*i)]) for i in 1:resto ])\n",
    "                    break\n",
    "                end\n",
    "                atom_names_full[(20*(cnt-1)+1):(20*cnt)] = [ rstrip(linea[(4*(i-1)+1):(4*i)]) for i in 1:20 ]\n",
    "            end\n",
    "            break\n",
    "        end\n",
    "    end\n",
    "    close(top_file)\n",
    "    \n",
    "    # One Array{Float64, 2} for each molecule, and the last one for water\n",
    "    for i = 1:length(nnatoms_each_mol)\n",
    "        lo_margin = natoms_each_mol[i] + 1\n",
    "        try\n",
    "            hi_margin = natoms_each_mol[i+1]\n",
    "            atom_names[i] = atom_names_full[lo_margin:hi_margin]\n",
    "        catch\n",
    "            atom_names[i] = atom_names_full[lo_margin:end]\n",
    "        end\n",
    "    end\n",
    "\n",
    "    \n",
    "    \n",
    "    return atom_names, sys_coords, sys_vels, bdims, bangles, nnatoms_each_mol, sum_natoms_all, time_ps\n",
    "end"
   ]
  },
  {
   "cell_type": "code",
   "execution_count": 10,
   "metadata": {
    "collapsed": false
   },
   "outputs": [
    {
     "data": {
      "text/plain": [
       "get_temp (generic function with 1 method)"
      ]
     },
     "execution_count": 10,
     "metadata": {},
     "output_type": "execute_result"
    }
   ],
   "source": [
    "function get_temp(vels_ap::Array{Float64, 2}, atom_names::Array{AbstractString, 1})\n",
    "    const N = size(vels_ap)[2]\n",
    "    const R_J = 8.314\n",
    "    const amber_vel_scal = (20.455) * 100\n",
    "\n",
    "    # Check input correctness\n",
    "    if N != length(atom_names)\n",
    "        error(\"Number of velocities and atom names don't match\")\n",
    "    end\n",
    "\n",
    "    # Get the masses ready\n",
    "    masses = Array{Float64}(N)\n",
    "    for i = 1:length(atom_names)\n",
    "        if atom_names[i][1] == 'C'\n",
    "            masses[i] = 0.012\n",
    "        elseif atom_names[i][1] == 'H'\n",
    "            masses[i] = 0.001\n",
    "        elseif atom_names[i][1] == 'O'\n",
    "            masses[i] = 0.016\n",
    "        elseif atom_names[i][1] == 'N'\n",
    "            masses[i] = 0.014\n",
    "        elseif atom_names[i][1] == 'S'\n",
    "            masses[i] = 0.032\n",
    "        else\n",
    "            masses[i] = 0.012\n",
    "            warn(string(\"Warning: element from atom \", i, \" could not be determined. Assigning carbon mass.\"))\n",
    "        end\n",
    "    end\n",
    "\n",
    "    # Get the speeds (norm of velocities) ready\n",
    "    vels_ms = vels_ap * amber_vel_scal\n",
    "    vels = mapslices(x -> sum(x.^2), vels_ms, 1)\n",
    "    vels = reshape(vels, length(vels))\n",
    "\n",
    "    # Get the system temperature\n",
    "    const K = sum(0.5 .* masses .* vels)\n",
    "    const T = K * (1/N) * (2/3) * (1/R_J)\n",
    "\n",
    "    return T\n",
    "end"
   ]
  },
  {
   "cell_type": "code",
   "execution_count": 48,
   "metadata": {
    "collapsed": false,
    "scrolled": false
   },
   "outputs": [
    {
     "ename": "LoadError",
     "evalue": "BoundsError: attempt to access 3x1 Array{Float64,2}:\n 26.7072\n 36.8165\n 27.1421\n  at index [1,2]",
     "output_type": "error",
     "traceback": [
      "BoundsError: attempt to access 3x1 Array{Float64,2}:\n 26.7072\n 36.8165\n 27.1421\n  at index [1,2]",
      "",
      " in write_rst7 at In[46]:27"
     ]
    }
   ],
   "source": [
    "# Get ready\n",
    "home = \"/home/german/labo/17/pdz/\"\n",
    "\n",
    "# Read original rst7\n",
    "names_each, xyz, vel, box_dims, box_angles, natoms_each, natoms, time_ps = \n",
    "read_amber_crd(string(home, \"top_files/lf.prmtop\"), string(home, \"run/lf/neq/data/3/1plf_2.rst7\"));\n",
    "\n",
    "# Change ligand temperature\n",
    "indices = find(x -> x != 'H', names_each[2])\n",
    "new_names = names_each[2][indices]\n",
    "new_vel = vel[2][:, indices]\n",
    "\n",
    "mult = sqrt(3000 / get_temp(new_vel, new_names))\n",
    "vel[2] = vel[2] .* mult\n",
    "\n",
    "# Write out\n",
    "write_rst7(string(home, \"run/lf/neq/data/3/T1plf_2.rst7\"), xyz, vel, time_ps, 0, box_dims, box_angles);"
   ]
  },
  {
   "cell_type": "code",
   "execution_count": null,
   "metadata": {
    "collapsed": true
   },
   "outputs": [],
   "source": [
    "function write_rst7(filename_rst7::AbstractString, sys_coords::Array{Array{Float64, 2}}, sys_vels::Array{Array{Float64, 2}} = 0,\n",
    "    time = 0, temp = 0, bdims::Array{Float64, 1} = 0, bangles::Array{Float64, 1} = 0)\n",
    "\n",
    "    # Get the number of atoms in the system\n",
    "    natoms = 0\n",
    "    for i = 1:length(sys_coords)\n",
    "        natoms = natoms + size(sys_coords[i])[2]\n",
    "    end\n",
    "\n",
    "    rst7_file = open(filename_rst7, \"w\")\n",
    "    # Header\n",
    "    @printf rst7_file \"default_name                                                                \\n\"\n",
    "    @printf rst7_file \"%5i\" natoms\n",
    "    @printf rst7_file \"%15.7E\" time\n",
    "    if temp != 0\n",
    "        @printf rst7_file \"%15.7E\" temp\n",
    "    end\n",
    "    @printf rst7_file \"\\n\" \n",
    "\n",
    "    # Coordinates\n",
    "    for k = 1:length(sys_coords)\n",
    "        for j in collect(1:size(sys_coords[k])[2])\n",
    "            for i = 1:3\n",
    "                @printf rst7_file \"%12.7f\" sys_coords[k][i, j]\n",
    "            end\n",
    "            @printf rst7_file \"\\n\" \n",
    "        end\n",
    "    end\n",
    "\n",
    "    # Velocities\n",
    "    if sys_vels != 0\n",
    "        for k = 1:length(sys_vels)\n",
    "            for j in collect(1:size(sys_vels[k])[2])\n",
    "                for i = 1:3\n",
    "                    @printf rst7_file \"%12.7f\" sys_vels[k][i, j]\n",
    "                end\n",
    "                @printf rst7_file \"\\n\"\n",
    "            end\n",
    "        end\n",
    "    end\n",
    "\n",
    "    # Box dimensions\n",
    "    if bdims != 0\n",
    "        @printf rst7_file \"%12.7f\" bdims[1]\n",
    "        @printf rst7_file \"%12.7f\" bdims[2]\n",
    "        @printf rst7_file \"%12.7f\" bdims[3]\n",
    "    end\n",
    "    # Box angles\n",
    "    if bangles != 0\n",
    "        @printf rst7_file \"%12.7f\" bangles[1]\n",
    "        @printf rst7_file \"%12.7f\" bangles[2]\n",
    "        @printf rst7_file \"%12.7f\" bangles[3]\n",
    "    end\n",
    "    @printf rst7_file \"\\n\"\n",
    "\n",
    "\n",
    "    close(rst7_file)\n",
    "    return\n",
    "end"
   ]
  },
  {
   "cell_type": "code",
   "execution_count": null,
   "metadata": {
    "collapsed": true
   },
   "outputs": [],
   "source": []
  }
 ],
 "metadata": {
  "anaconda-cloud": {},
  "kernelspec": {
   "display_name": "Julia 0.4.7",
   "language": "julia",
   "name": "julia-0.4"
  },
  "language_info": {
   "file_extension": ".jl",
   "mimetype": "application/julia",
   "name": "julia",
   "version": "0.4.7"
  }
 },
 "nbformat": 4,
 "nbformat_minor": 1
}
