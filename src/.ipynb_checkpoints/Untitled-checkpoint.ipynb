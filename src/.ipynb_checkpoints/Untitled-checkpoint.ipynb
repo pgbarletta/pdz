{
 "cells": [
  {
   "cell_type": "code",
   "execution_count": 2,
   "metadata": {
    "collapsed": false
   },
   "outputs": [],
   "source": [
    "using DataFrames\n",
    "using Gadfly\n",
    "using Cairo\n",
    "using MIToS.PDB\n",
    "using Compose\n",
    "using Distributions\n",
    "using Formatting\n",
    "set_default_plot_size(40cm, 14cm)"
   ]
  },
  {
   "cell_type": "code",
   "execution_count": 3,
   "metadata": {
    "collapsed": false
   },
   "outputs": [
    {
     "data": {
      "text/plain": [
       "meta_var (generic function with 1 method)"
      ]
     },
     "execution_count": 3,
     "metadata": {},
     "output_type": "execute_result"
    }
   ],
   "source": [
    "function meta_var(s::AbstractString,v::Any)\n",
    "         s=symbol(s) \n",
    "         @eval (($s) = ($v))\n",
    "end"
   ]
  },
  {
   "cell_type": "code",
   "execution_count": 4,
   "metadata": {
    "collapsed": false
   },
   "outputs": [
    {
     "data": {
      "text/plain": [
       "tognm (generic function with 1 method)"
      ]
     },
     "execution_count": 4,
     "metadata": {},
     "output_type": "execute_result"
    }
   ],
   "source": [
    "function tognm(vtor_anm)\n",
    "    vtor_gnm = Array{Float64}(convert(Int64, length(vtor_anm)/3));\n",
    "    vtor_anm =  vtor_anm.^2\n",
    "    for i=1:convert(Int64, length(vtor_anm)/3)\n",
    "        vtor_gnm[i] = sqrt(vtor_anm[i*3-2] + vtor_anm[i*3-1] + vtor_anm[i*3])\n",
    "    end\n",
    "    return vtor_gnm\n",
    "end"
   ]
  },
  {
   "cell_type": "code",
   "execution_count": 5,
   "metadata": {
    "collapsed": false
   },
   "outputs": [
    {
     "data": {
      "text/plain": [
       "read_ptraj_modes (generic function with 2 methods)"
      ]
     },
     "execution_count": 5,
     "metadata": {},
     "output_type": "execute_result"
    }
   ],
   "source": [
    "function read_ptraj_modes(file, modes_elements, norma::Bool=true)\n",
    "    modes_file=open(file, \"r\")\n",
    "    modes_text = readdlm(modes_file, skipstart=0, skipblanks=true, \n",
    "    ignore_invalid_chars=true, comments=true, comment_char='\\*')\n",
    "    close(modes_file)\n",
    "\n",
    "    nmodes = modes_text[1, 5]\n",
    "    ncoords = convert(Int64, modes_elements)\n",
    "    lines = ceil(Int64, ncoords/7)\n",
    "    rest = convert(Int64, ncoords % 7)\n",
    "    \n",
    "    eval=Array{Float64}(nmodes);\n",
    "    mode = Array{Float64}(ncoords, nmodes);\n",
    "    temp1=Array{Float64}(ncoords, 1);\n",
    "    temp2 = Array{Float64}(ncoords+(7-rest));\n",
    "\n",
    "    j=lines + 1 + 2 # 1 p/ q lea la prox linea 2 por el header\n",
    "\n",
    "    for i=1:nmodes\n",
    "        eval[i] = modes_text[j, 2]\n",
    "        temp = transpose(modes_text[(j+1):(lines+j), :])\n",
    "        temp2 = reshape(temp, ncoords+(7-rest))\n",
    "        for k=(rest+1):7\n",
    "            pop!(temp2)\n",
    "        end\n",
    "    mode[:, i] = temp2\n",
    "        j = j + lines + 1\n",
    "    end\n",
    "    \n",
    "    if norma == true\n",
    "        for i=1:nmodes\n",
    "            mode[: ,i] = mode[:, i] / norm(mode[:, i])\n",
    "        end\n",
    "    end\n",
    "    \n",
    "    return mode, eval\n",
    "end"
   ]
  },
  {
   "cell_type": "code",
   "execution_count": 6,
   "metadata": {
    "collapsed": false
   },
   "outputs": [
    {
     "data": {
      "text/plain": [
       "WeightedHist (generic function with 2 methods)"
      ]
     },
     "execution_count": 6,
     "metadata": {},
     "output_type": "execute_result"
    }
   ],
   "source": [
    "function WeightedHist(in_vec, in_bins, in_weight, density = false)\n",
    "    # Safety check    \n",
    "    if length(in_vec) != length(in_weight)\n",
    "        println(\"Each element of the input vector needs one weight\")\n",
    "        return\n",
    "    end\n",
    "    \n",
    "    # Prepare variables\n",
    "    out_counts = Array{Float64}(length(in_bins)-1)\n",
    "    \n",
    "    # Get weighted histogram\n",
    "    for i=1:length(in_bins)-1\n",
    "        temp_bool = (in_vec .>= in_bins[i]) & (in_vec .< in_bins[i+1])\n",
    "        out_counts[i] = sum(in_weight[temp_bool])\n",
    "    end\n",
    "    \n",
    "    # Get bins middle points\n",
    "    out_middle = (in_bins[1:end-1] + in_bins[2:end]) / 2\n",
    "    \n",
    "    # Turn counts into density\n",
    "    if (density == true)\n",
    "        out_counts = out_counts ./ sum(out_counts) \n",
    "    end\n",
    "    return out_counts, out_middle\n",
    "end"
   ]
  },
  {
   "cell_type": "code",
   "execution_count": 7,
   "metadata": {
    "collapsed": false
   },
   "outputs": [
    {
     "data": {
      "text/plain": [
       "read_rst7 (generic function with 4 methods)"
      ]
     },
     "execution_count": 7,
     "metadata": {},
     "output_type": "execute_result"
    }
   ],
   "source": [
    "function read_rst7(file, velocities = true, box_dims = true, box_angles = true)\n",
    "    # Read\n",
    "    rst7_file=open(file, \"r\")\n",
    "    rst7_text = readdlm(rst7_file, skipstart=1)\n",
    "    close(rst7_file)\n",
    "\n",
    "    # Get ready\n",
    "    natoms = rst7_text[1, 1]\n",
    "    time_ps = rst7_text[1, 2]\n",
    "    nrows = convert(Int64, ceil(natoms / 2))\n",
    "\n",
    "    coords = Array{Float64}(3, natoms)\n",
    "    vels = Array{Float64}(3, natoms)\n",
    "    bdims = Array{Float64}(3)\n",
    "    bangles = Array{Float64}(3)\n",
    "\n",
    "    # Get coordinates\n",
    "    orig_coords = rst7_text[2:(nrows+1), :]\n",
    "    for i=1:nrows\n",
    "        coords[:, (i*2-1)] = reshape(orig_coords[i, 1:3], 3)\n",
    "        try\n",
    "            coords[:, (i*2)] = reshape(orig_coords[i, 4:6], 3)\n",
    "        end\n",
    "    end\n",
    "\n",
    "    # Get velocities?\n",
    "    if velocities\n",
    "        try\n",
    "            orig_vels = rst7_text[(nrows+2):(end-1), :]\n",
    "            for i=1:nrows\n",
    "                vels[:, (i*2-1)] = reshape(orig_vels[i, 1:3], 3)\n",
    "                try\n",
    "                    vels[:, (i*2)] = reshape(orig_vels[i, 4:6], 3)\n",
    "                end\n",
    "            end\n",
    "        catch\n",
    "            error(\"Could not read velocities\")\n",
    "        end\n",
    "    end\n",
    "\n",
    "    # Get box size?\n",
    "    if box_dims\n",
    "        try\n",
    "            bdims = convert(Array{Float64}, rst7_text[end, 1:3])\n",
    "        catch\n",
    "            error(\"Could not read box dimensions\")\n",
    "        end\n",
    "    end\n",
    "\n",
    "    # Get box angles?\n",
    "    if box_angles\n",
    "        try\n",
    "            bangles = convert(Array{Float64}, rst7_text[end, 4:6])\n",
    "        catch\n",
    "            error(\"Could not read box angles\")\n",
    "        end\n",
    "    end\n",
    "\n",
    "    return coords, vels, bdims, bangles, natoms\n",
    "end"
   ]
  },
  {
   "cell_type": "code",
   "execution_count": 9,
   "metadata": {
    "collapsed": false
   },
   "outputs": [
    {
     "data": {
      "text/plain": [
       "write_rst7 (generic function with 6 methods)"
      ]
     },
     "execution_count": 9,
     "metadata": {},
     "output_type": "execute_result"
    }
   ],
   "source": [
    "function write_rst7(filename_rst7::AbstractString, sys_coords::Array{Array{Float64, 2}}, sys_vels::Array{Array{Float64, 2}} = 0,\n",
    "    time = 0, temp = 0, bdims::Array{Float64, 1} = 0, bangles::Array{Float64, 1} = 0)\n",
    "\n",
    "    # Get the number of atoms in the system\n",
    "    natoms = 0\n",
    "    for i = 1:length(sys_coords)\n",
    "        natoms = natoms + size(sys_coords[i])[2]\n",
    "    end\n",
    "\n",
    "    rst7_file = open(filename_rst7, \"w\")\n",
    "    # Header\n",
    "    @printf rst7_file \"default_name                                                                \\n\"\n",
    "    @printf rst7_file \"%5i\" natoms\n",
    "    @printf rst7_file \"%15.7E\" time\n",
    "    if temp != 0\n",
    "        @printf rst7_file \"%15.7E\" temp\n",
    "    end\n",
    "    @printf rst7_file \"\\n\" \n",
    "\n",
    "    # Coordinates\n",
    "    for k = 1:length(sys_coords)\n",
    "        for j in collect(1:2:size(sys_coords[k])[2])\n",
    "            for i = 1:3\n",
    "                @printf rst7_file \"%12.7f\" sys_coords[k][i, j]\n",
    "            end\n",
    "            for i = 1:3\n",
    "                @printf rst7_file \"%12.7f\" sys_coords[k][i, j+1]\n",
    "            end\n",
    "            @printf rst7_file \"\\n\" \n",
    "        end\n",
    "    end\n",
    "\n",
    "    # Velocities\n",
    "    if sys_vels != 0\n",
    "        for k = 1:length(sys_vels)\n",
    "            for j in collect(1:2:size(sys_vels[k])[2])\n",
    "                for i = 1:3\n",
    "                    @printf rst7_file \"%12.7f\" sys_vels[k][i, j]\n",
    "                end\n",
    "                for i = 1:3\n",
    "                    @printf rst7_file \"%12.7f\" sys_vels[k][i, j+1]\n",
    "                end\n",
    "                @printf rst7_file \"\\n\"\n",
    "            end\n",
    "        end\n",
    "    end\n",
    "\n",
    "    # Box dimensions\n",
    "    if bdims != 0\n",
    "        @printf rst7_file \"%12.7f\" bdims[1]\n",
    "        @printf rst7_file \"%12.7f\" bdims[2]\n",
    "        @printf rst7_file \"%12.7f\" bdims[3]\n",
    "    end\n",
    "    # Box angles\n",
    "    if bangles != 0\n",
    "        @printf rst7_file \"%12.7f\" bangles[1]\n",
    "        @printf rst7_file \"%12.7f\" bangles[2]\n",
    "        @printf rst7_file \"%12.7f\" bangles[3]\n",
    "    end\n",
    "    @printf rst7_file \"\\n\"\n",
    "\n",
    "\n",
    "    close(rst7_file)\n",
    "    return\n",
    "end"
   ]
  },
  {
   "cell_type": "code",
   "execution_count": 87,
   "metadata": {
    "collapsed": false
   },
   "outputs": [
    {
     "data": {
      "text/plain": [
       "read_amber_crd (generic function with 4 methods)"
      ]
     },
     "execution_count": 87,
     "metadata": {},
     "output_type": "execute_result"
    }
   ],
   "source": [
    "function read_amber_crd(filename_top, filename_rst7, velocities = true, box_dims = true, box_angles = true)\n",
    "    # Read topology\n",
    "    top_file=open(filename_top, \"r\")\n",
    "    top_text = readdlm(top_file)\n",
    "    close(top_file)\n",
    "\n",
    "    # Look for the relevant flags\n",
    "    match_sp = convert(Int64, find(x -> x == \"SOLVENT_POINTERS\", top_text[:, 2])[1])\n",
    "    match_apm = convert(Int64, find(x -> x == \"ATOMS_PER_MOLECULE\", top_text[:, 2])[1])\n",
    "    match_rl = convert(Int64, find(x -> x == \"RESIDUE_LABEL\", top_text[:, 2])[1])\n",
    "    match_an = convert(Int64, find(x -> x == \"ATOM_NAME\", top_text[:, 2])[1])\n",
    "    sum_natoms_all = convert(Int64, top_text[7, 1])\n",
    "\n",
    "    # Start off with solvent pointers\n",
    "    # Final residue that is considered part of the solute\n",
    "    iptres = top_text[match_sp + 2, :][1]\n",
    "    # Total number of molecules\n",
    "    nspm = top_text[match_sp + 2, :][2]\n",
    "    # The 1st solvent molecule\n",
    "    nspsol = top_text[match_sp + 2, :][3]\n",
    "\n",
    "    # Now, Atoms per molecule flag\n",
    "    natoms_each_mol_str = top_text[match_apm + 2, :]\n",
    "    natoms_each_mol = [0]\n",
    "    sum_natoms = 0\n",
    "    for i=1:nspsol-1\n",
    "        natom_mol_str = natoms_each_mol_str[i]\n",
    "    \n",
    "        if natom_mol_str != \"\"\n",
    "            each = convert(Int64, natom_mol_str)\n",
    "            sum_natoms = sum_natoms + each\n",
    "            push!(natoms_each_mol, sum_natoms)\n",
    "        else\n",
    "            break\n",
    "        end\n",
    "    end\n",
    "        \n",
    "    # Read coordinates\n",
    "    rst7_file=open(filename_rst7, \"r\")\n",
    "    rst7_text = readdlm(rst7_file, skipstart=1)\n",
    "    close(rst7_file)\n",
    "\n",
    "    # Get ready\n",
    "    natoms = rst7_text[1, 1]\n",
    "    time_ps = rst7_text[1, 2]\n",
    "    nrows = convert(Int64, ceil(natoms / 2))\n",
    "\n",
    "    coords = Array{Float64}(3, natoms)\n",
    "    vels = Array{Float64}(3, natoms)\n",
    "    bdims = Array{Float64}(3)\n",
    "    bangles = Array{Float64}(3)\n",
    "\n",
    "    # Get coordinates\n",
    "    orig_coords = rst7_text[2:(nrows+1), :]\n",
    "    for i=1:nrows\n",
    "        coords[:, (i*2-1)] = reshape(orig_coords[i, 1:3], 3)\n",
    "        try\n",
    "            coords[:, (i*2)] = reshape(orig_coords[i, 4:6], 3)\n",
    "        end\n",
    "    end\n",
    "    # One Array{Float64, 2} for each molecule, and the last one for water\n",
    "    sys_coords = Array{Array{Float64, 2}}(length(natoms_each_mol))\n",
    "    for i = 1:length(natoms_each_mol)\n",
    "        lo_margin = natoms_each_mol[i] + 1\n",
    "        try\n",
    "            hi_margin = natoms_each_mol[i+1]\n",
    "            sys_coords[i] = coords[:, lo_margin:hi_margin]\n",
    "        catch\n",
    "            sys_coords[i] = coords[:, lo_margin:end]\n",
    "        end\n",
    "    end\n",
    "\n",
    "\n",
    "    # Get velocities?\n",
    "    if velocities\n",
    "        try\n",
    "            orig_vels = rst7_text[(nrows+2):(end-1), :]\n",
    "            for i=1:nrows\n",
    "                vels[:, (i*2-1)] = reshape(orig_vels[i, 1:3], 3)\n",
    "                try\n",
    "                    vels[:, (i*2)] = reshape(orig_vels[i, 4:6], 3)\n",
    "                end\n",
    "            end\n",
    "        catch\n",
    "            error(\"Could not read velocities\")\n",
    "        end\n",
    "    end\n",
    "    # One Array{Float64, 2} for each molecule, and the last one for water\n",
    "    sys_vels = Array{Array{Float64, 2}}(length(natoms_each_mol))\n",
    "    for i = 1:length(natoms_each_mol)\n",
    "        lo_margin = natoms_each_mol[i] + 1\n",
    "        try\n",
    "            hi_margin = natoms_each_mol[i+1]\n",
    "            sys_vels[i] = vels[:, lo_margin:hi_margin]\n",
    "        catch\n",
    "            sys_vels[i] = vels[:, lo_margin:end]\n",
    "        end\n",
    "    end\n",
    "\n",
    "    # Get box size?\n",
    "    if box_dims\n",
    "        try\n",
    "            bdims = convert(Array{Float64}, rst7_text[end, 1:3])\n",
    "        catch\n",
    "            error(\"Could not read box dimensions\")\n",
    "        end\n",
    "        bdims = reshape(bdims, length(bdims))\n",
    "    end\n",
    "\n",
    "    # Get box angles?\n",
    "    if box_angles\n",
    "        try\n",
    "            bangles = convert(Array{Float64}, rst7_text[end, 4:6])\n",
    "        catch\n",
    "            error(\"Could not read box angles\")\n",
    "        end\n",
    "        bangles = reshape(bangles, length(bangles))\n",
    "    end\n",
    "\n",
    "    # Get number of atoms of each system\n",
    "    nnatoms_each_mol = Array{Int64}(length(natoms_each_mol))\n",
    "    for i = 1:length(nnatoms_each_mol)\n",
    "        nnatoms_each_mol[i] = size(sys_coords[i])[2]\n",
    "    end\n",
    "    \n",
    "    # Finally atom names, again from .prmtop\n",
    "    top_file=open(filename_top, \"r\")\n",
    "    nlines_an = convert(Int64, ceil(sum_natoms_all / 20))\n",
    "    testeo = AbstractString\n",
    "    cnt = 0\n",
    "    atom_names = Array{Array{AbstractString, 1}}(length(nnatoms_each_mol))\n",
    "    atom_names_full = Array{AbstractString, 1}((nlines_an-1)*20)\n",
    "\n",
    "    for linea in eachline(top_file)\n",
    "        try\n",
    "            testeo = linea[1:15]\n",
    "        end\n",
    "        if testeo == \"%FLAG ATOM_NAME\"\n",
    "            for linea in eachline(top_file) \n",
    "                break\n",
    "            end\n",
    "            for linea in eachline(top_file)\n",
    "                # Found the atom names\n",
    "                cnt+=1\n",
    "                if cnt == nlines_an\n",
    "                    resto = convert(Int64, floor(length(linea) / 4))\n",
    "                    append!(atom_names_full, [ rstrip(linea[(4*(i-1)+1):(4*i)]) for i in 1:resto ])\n",
    "                    break\n",
    "                end\n",
    "                atom_names_full[(20*(cnt-1)+1):(20*cnt)] = [ rstrip(linea[(4*(i-1)+1):(4*i)]) for i in 1:20 ]\n",
    "            end\n",
    "            break\n",
    "        end\n",
    "    end\n",
    "    close(top_file)\n",
    "    \n",
    "    # One Array{Float64, 2} for each molecule, and the last one for water\n",
    "    for i = 1:length(nnatoms_each_mol)\n",
    "        lo_margin = natoms_each_mol[i] + 1\n",
    "        try\n",
    "            hi_margin = natoms_each_mol[i+1]\n",
    "            atom_names[i] = atom_names_full[lo_margin:hi_margin]\n",
    "        catch\n",
    "            atom_names[i] = atom_names_full[lo_margin:end]\n",
    "        end\n",
    "    end\n",
    "\n",
    "    \n",
    "    \n",
    "    return atom_names, sys_coords, sys_vels, bdims, bangles, nnatoms_each_mol, sum_natoms_all\n",
    "end"
   ]
  },
  {
   "cell_type": "code",
   "execution_count": 88,
   "metadata": {
    "collapsed": false,
    "scrolled": false
   },
   "outputs": [
    {
     "data": {
      "text/plain": [
       "([AbstractString[\"N\",\"H1\",\"H2\",\"H3\",\"CA\",\"HA\",\"CB\",\"HB2\",\"HB3\",\"CG\"  …  \"CA\",\"HA\",\"CB\",\"HB2\",\"HB3\",\"OG\",\"HG\",\"C\",\"O\",\"OXT\"],AbstractString[\"N\",\"H1\",\"H2\",\"H3\",\"CA\",\"HA\",\"CB\",\"HB2\",\"HB3\",\"CG\"  …  \"HG11\",\"HG12\",\"HG13\",\"CG2\",\"HG21\",\"HG22\",\"HG23\",\"C\",\"O\",\"OXT\"],AbstractString[\"O\",\"H1\",\"H2\",\"O\",\"H1\",\"H2\",\"O\",\"H1\",\"H2\",\"O\"  …  \"H2\",\"O\",\"H1\",\"H2\",\"O\",\"H1\",\"H2\",\"O\",\"H1\",\"H2\"]],[\n",
       "3x1944 Array{Float64,2}:\n",
       " 11.7331   11.8422   10.9529   11.5002   …   21.2116   21.1659   22.0568\n",
       " -1.80319  -2.78879  -1.73218  -1.25682     -10.2321  -10.8798  -10.3773\n",
       " 45.9813   46.1731   45.3438   46.7982       53.9487   55.0377   53.0405,\n",
       "\n",
       "3x132 Array{Float64,2}:\n",
       "  8.12778   7.36487   8.86789   8.5493  …  14.6888  14.3229  13.829   15.4646\n",
       " 62.612    61.9624   62.3007   62.5231     77.5738  77.3599  78.2593  76.8756\n",
       " 30.2312   30.358    30.8439   29.3177     16.3564  12.5379  11.8433  12.2249,\n",
       "\n",
       "3x21006 Array{Float64,2}:\n",
       "  3.76616   3.42651   3.91403  23.2176  …  53.5783  22.8809  22.6236  22.0904\n",
       " 23.1732   24.0206   23.2809   54.478      47.6759  33.0055  32.1284  33.5341\n",
       " 26.5056   26.7934   25.5661   15.0304     42.416   19.0869  18.8029  18.9776],[\n",
       "3x1944 Array{Float64,2}:\n",
       " -0.0469666  -0.695225   -0.310363  …  -0.0162815  -0.078299   0.175291 \n",
       " -0.0097923  -0.0410268   0.648347      0.12686    -0.136324   0.0465639\n",
       "  0.0847344   0.344996    0.459786     -0.020182   -0.16293   -0.0562351,\n",
       "\n",
       "3x132 Array{Float64,2}:\n",
       "  0.0375926  -0.67946   -0.271678  …  -0.0984054  -0.247065    0.18063 \n",
       " -0.0044504   0.956685  -1.51386      -0.0358398  -0.113698   -0.127116\n",
       " -0.155063    0.848741  -0.465766     -0.0758567  -0.0844741   0.474439,\n",
       "\n",
       "3x21006 Array{Float64,2}:\n",
       " -0.0201348   0.0163629  -1.09795    …  -0.0105469  -0.408844  0.0369647\n",
       " -0.12553    -0.310186    0.188455       0.198722    0.143583  0.339738 \n",
       "  0.0695907   0.686054   -0.0920387     -0.0774787   0.423861  0.237991 ],[60.2538023,72.8161626,52.5616512],[90.0,90.0,90.0],[1944,132,21006],23082)"
      ]
     },
     "execution_count": 88,
     "metadata": {},
     "output_type": "execute_result"
    }
   ],
   "source": [
    "# Get ready\n",
    "home = \"/home/german/labo/17/pdz/\"\n",
    "\n",
    "names_each, xyz, vel, box_dims, box_angles, natoms_each, natoms = \n",
    "read_amber_crd(string(home, \"top_files/lb.prmtop\"), string(home, \"run/lb/data/31elb.rst7\"));\n",
    "\n",
    "#write_rst7(\"test.rst7\", xyz, vel, 800320, 0, box_dims, box_angles)"
   ]
  },
  {
   "cell_type": "code",
   "execution_count": 11,
   "metadata": {
    "collapsed": false
   },
   "outputs": [],
   "source": [
    "#function read_amber_crd(\n",
    "filename_top = \"/home/german/labo/17/pdz/top_files/lb.prmtop\"\n",
    "\n",
    "    # Read topology\n",
    "    top_file=open(filename_top, \"r\")\n",
    "    top_text = readdlm(top_file)\n",
    "    close(top_file)\n",
    "\n",
    "    # Look for the relevant flags\n",
    "    match_sp = convert(Int64, find(x -> x == \"SOLVENT_POINTERS\", top_text[:, 2])[1])\n",
    "    match_apm = convert(Int64, find(x -> x == \"ATOMS_PER_MOLECULE\", top_text[:, 2])[1])\n",
    "    match_rl = convert(Int64, find(x -> x == \"RESIDUE_LABEL\", top_text[:, 2])[1])\n",
    "    match_an = convert(Int64, find(x -> x == \"ATOM_NAME\", top_text[:, 2])[1])\n",
    "    sum_natoms_all = convert(Int64, top_text[7, 1])\n",
    "\n",
    "    # Start off with solvent pointers\n",
    "    # Final residue that is considered part of the solute\n",
    "    iptres = top_text[match_sp + 2, :][1]\n",
    "    # Total number of molecules\n",
    "    nspm = top_text[match_sp + 2, :][2]\n",
    "    # The 1st solvent molecule\n",
    "    nspsol = top_text[match_sp + 2, :][3]\n",
    "\n",
    "    # Now, Atoms per molecule flag\n",
    "    natoms_each_mol_str = top_text[match_apm + 2, :]\n",
    "    natoms_each_mol = [0]\n",
    "    sum_natoms = 0\n",
    "    for i=1:nspsol-1\n",
    "        natom_mol_str = natoms_each_mol_str[i]\n",
    "    \n",
    "        if natom_mol_str != \"\"\n",
    "            each = convert(Int64, natom_mol_str)\n",
    "            sum_natoms = sum_natoms + each\n",
    "            push!(natoms_each_mol, sum_natoms)\n",
    "        else\n",
    "            break\n",
    "        end\n",
    "    end\n",
    "    \n",
    "    # And atom names"
   ]
  },
  {
   "cell_type": "code",
   "execution_count": 12,
   "metadata": {
    "collapsed": false
   },
   "outputs": [
    {
     "ename": "LoadError",
     "evalue": "UndefVarError: nnatoms_each_mol not defined",
     "output_type": "error",
     "traceback": [
      "UndefVarError: nnatoms_each_mol not defined",
      ""
     ]
    }
   ],
   "source": [
    "nnatoms_each_mol"
   ]
  },
  {
   "cell_type": "code",
   "execution_count": null,
   "metadata": {
    "collapsed": false
   },
   "outputs": [],
   "source": []
  },
  {
   "cell_type": "code",
   "execution_count": 13,
   "metadata": {
    "collapsed": false
   },
   "outputs": [
    {
     "ename": "LoadError",
     "evalue": "MethodError: `getindex` has no method matching getindex(::EachLine, ::Int64)",
     "output_type": "error",
     "traceback": [
      "MethodError: `getindex` has no method matching getindex(::EachLine, ::Int64)",
      ""
     ]
    }
   ],
   "source": [
    "eachline(top_file)[1]"
   ]
  },
  {
   "cell_type": "code",
   "execution_count": null,
   "metadata": {
    "collapsed": true
   },
   "outputs": [],
   "source": []
  },
  {
   "cell_type": "code",
   "execution_count": null,
   "metadata": {
    "collapsed": true
   },
   "outputs": [],
   "source": []
  },
  {
   "cell_type": "code",
   "execution_count": null,
   "metadata": {
    "collapsed": true
   },
   "outputs": [],
   "source": []
  },
  {
   "cell_type": "code",
   "execution_count": null,
   "metadata": {
    "collapsed": true
   },
   "outputs": [],
   "source": []
  },
  {
   "cell_type": "code",
   "execution_count": 14,
   "metadata": {
    "collapsed": false
   },
   "outputs": [
    {
     "data": {
      "text/plain": [
       "23082"
      ]
     },
     "execution_count": 14,
     "metadata": {},
     "output_type": "execute_result"
    }
   ],
   "source": [
    "sum_natoms_all = convert(Int64, top_text[7, 1])"
   ]
  },
  {
   "cell_type": "code",
   "execution_count": 15,
   "metadata": {
    "collapsed": false
   },
   "outputs": [
    {
     "ename": "LoadError",
     "evalue": "UndefVarError: lo_margin not defined",
     "output_type": "error",
     "traceback": [
      "UndefVarError: lo_margin not defined",
      ""
     ]
    }
   ],
   "source": [
    "replace(string(top_text[lo_margin+3, :])[6:end-1], \"\\\"\", \"\")"
   ]
  },
  {
   "cell_type": "code",
   "execution_count": 16,
   "metadata": {
    "collapsed": false
   },
   "outputs": [
    {
     "ename": "LoadError",
     "evalue": "syntax: use \"^\" instead of \"**\"",
     "output_type": "error",
     "traceback": [
      "syntax: use \"^\" instead of \"**\"",
      ""
     ]
    }
   ],
   "source": [
    "conv_fac = (12.d0*((20.455)**2.d0)*10.d0) / (3.d0*6.02214086*1.38064852)"
   ]
  }
 ],
 "metadata": {
  "anaconda-cloud": {},
  "kernelspec": {
   "display_name": "Julia 0.4.7",
   "language": "julia",
   "name": "julia-0.4"
  },
  "language_info": {
   "file_extension": ".jl",
   "mimetype": "application/julia",
   "name": "julia",
   "version": "0.4.7"
  }
 },
 "nbformat": 4,
 "nbformat_minor": 1
}
