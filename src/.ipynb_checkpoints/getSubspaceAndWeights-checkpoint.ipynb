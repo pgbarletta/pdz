{
 "cells": [
  {
   "cell_type": "code",
   "execution_count": 1,
   "metadata": {
    "collapsed": true
   },
   "outputs": [],
   "source": [
    "using Chemfiles\n",
    "using DataFrames"
   ]
  },
  {
   "cell_type": "code",
   "execution_count": 2,
   "metadata": {},
   "outputs": [
    {
     "data": {
      "text/plain": [
       "meta_var (generic function with 1 method)"
      ]
     },
     "execution_count": 2,
     "metadata": {},
     "output_type": "execute_result"
    }
   ],
   "source": [
    "function meta_var(s::AbstractString,v::Any)\n",
    "         s=symbol(s) \n",
    "         @eval (($s) = ($v))\n",
    "end"
   ]
  },
  {
   "cell_type": "code",
   "execution_count": 3,
   "metadata": {},
   "outputs": [
    {
     "data": {
      "text/plain": [
       "pnum (generic function with 1 method)"
      ]
     },
     "execution_count": 3,
     "metadata": {},
     "output_type": "execute_result"
    }
   ],
   "source": [
    "function tognm(vtor_anm)\n",
    "    vtor_gnm = Array{Float64}(convert(Int64, length(vtor_anm)/3));\n",
    "    vtor_anm =  vtor_anm.^2\n",
    "    for i=1:convert(Int64, length(vtor_anm)/3)\n",
    "        vtor_gnm[i] = sqrt(vtor_anm[i*3-2] + vtor_anm[i*3-1] + vtor_anm[i*3])\n",
    "    end\n",
    "    return vtor_gnm\n",
    "end\n",
    "\n",
    "function gpnum(vtor_in::Array{Float64})\n",
    "    return 1 ./ sum(tognm(vtor_in).^4)\n",
    "end\n",
    "\n",
    "function pnum(vtor_in::Array{Float64})\n",
    "    return 1 ./ sum(vtor_in.^4)\n",
    "end"
   ]
  },
  {
   "cell_type": "code",
   "execution_count": 4,
   "metadata": {},
   "outputs": [
    {
     "data": {
      "text/plain": [
       "read_ptraj_modes (generic function with 2 methods)"
      ]
     },
     "execution_count": 4,
     "metadata": {},
     "output_type": "execute_result"
    }
   ],
   "source": [
    "function read_ptraj_modes(file, modes_elements, norma::Bool=true)    \n",
    "    modes_file=open(file, \"r\")\n",
    "    modes_text = readdlm(modes_file, skipstart=0, skipblanks=true,\n",
    "    comments=true, comment_char='\\*')\n",
    "    close(modes_file)\n",
    "\n",
    "    nmodes = modes_text[1, 5]\n",
    "    ncoords = convert(Int64, modes_elements)\n",
    "    lines = ceil(Int64, ncoords/7)\n",
    "    rest = convert(Int64, ncoords % 7)\n",
    "    \n",
    "    eval=Array{Float64}(nmodes);\n",
    "    mode = Array{Float64}(ncoords, nmodes);\n",
    "    j = lines + 1 + 2 # 1 p/ q lea la prox linea 2 por el header\n",
    "\n",
    "    for i=1:nmodes\n",
    "        eval[i] = modes_text[j, 2]\n",
    "        tmp = map(x -> if x == \"\" x = 0 else x end, modes_text[(j+1):(lines+j), :])\n",
    "        mode[:, i] = reshape(transpose(tmp), size(tmp)[1]*size(tmp)[2])[1:modes_elements]\n",
    "        j = j + lines + 1\n",
    "    end\n",
    "    \n",
    "    if norma == true\n",
    "        for i=1:nmodes\n",
    "            mode[: ,i] = mode[:, i] / norm(mode[:, i])\n",
    "        end\n",
    "    end\n",
    "    \n",
    "    return mode, eval\n",
    "end"
   ]
  },
  {
   "cell_type": "code",
   "execution_count": 7,
   "metadata": {},
   "outputs": [
    {
     "name": "stderr",
     "output_type": "stream",
     "text": [
      "\u001b[1m\u001b[33mWARNING: \u001b[39m\u001b[22m\u001b[33m[chemfiles] Unknown PDB record: TER    1945      SER   124 \u001b[39m\n",
      "\u001b[1m\u001b[33mWARNING: \u001b[39m\u001b[22m\u001b[33m[chemfiles] Unknown PDB record: TER    2077      VAL   132 \u001b[39m\n"
     ]
    }
   ],
   "source": [
    "# Get ready\n",
    "home = \"/home/german/labo/17/pdz/\"\n",
    "neq = \"run/lb/neq/\";\n",
    "natoms = 2076;\n",
    "natoms_pdz = 1944;\n",
    "natoms_lig = natoms - natoms_pdz;\n",
    "\n",
    "# NEQ trajectory\n",
    "frame_cnt = 400;\n",
    "in_trj_filename = string(home, neq, \"starting_frames/\", \"dry_avg_starting_frames.nc\")\n",
    "in_trj = Trajectory(in_trj_filename)\n",
    "\n",
    "# Average.\n",
    "in_avg_filename = string(home, neq, \"starting_frames/\", \"avg_400_t0_lb.pdb\")\n",
    "in_avg_trj = Trajectory(in_avg_filename)\n",
    "in_avg_frm = read(in_avg_trj)\n",
    "in_avg_top = Topology(in_avg_frm)\n",
    "\n",
    "in_avg_frm_xyz = positions(in_avg_frm);\n",
    "natoms_system = size(in_avg_frm)\n",
    "# Obtengo los índices.\n",
    "ca_indices = [ name(Atom(in_avg_top, i)) for i=0:natoms_system-1 ] .== \"CA\";\n",
    "ca_indices_pdz = findn(ca_indices)[1:124]\n",
    "ca_indices_cut = findn(ca_indices)[12:112]\n",
    "ca_indices_lig = findn(ca_indices)[125:132]\n",
    "aa3_cut = length(ca_indices_cut) * 3\n",
    "aa36_cut = aa3_cut - 6\n",
    "\n",
    "# Obtengo las posiciones de los CA del average pdz.\n",
    "ca_avg_xyz = in_avg_frm_xyz[:, ca_indices_cut]\n",
    "# Obtengo los modos a t0\n",
    "t0_modes, t0_evals = read_ptraj_modes(string(home, neq, \"pca/t0/modes_neq_t0\"), aa3_cut);"
   ]
  },
  {
   "cell_type": "code",
   "execution_count": 8,
   "metadata": {},
   "outputs": [
    {
     "data": {
      "text/plain": [
       "0"
      ]
     },
     "execution_count": 8,
     "metadata": {},
     "output_type": "execute_result"
    }
   ],
   "source": [
    "# Obtengo las posiciones de los CA de la corrida de NEQ y los vectores diferencia respecto\n",
    "# a su propio average\n",
    "ca_neq_xyz = Array{Array{Float64, 2}}(frame_cnt)\n",
    "Vdiff = Array{Array{Float64, 1}}(frame_cnt)\n",
    "dot_vdiff_modes = Array{Float64, 2}(aa36_cut, frame_cnt)\n",
    "pnum_t0 = Array{Float64, 1}(frame_cnt)\n",
    "\n",
    "for frame=1:frame_cnt\n",
    "    # Obtengo las posiciones de este frame\n",
    "    in_frm = read_step(in_trj, frame-1)\n",
    "    in_frms_xyz = positions(in_frm)\n",
    "    ca_neq_xyz[frame] = in_frms_xyz[:, ca_indices_cut]\n",
    "    # Obtengo el vector diferencia normalizado de los Calpha no_loop del pdz entre el frame y el avg\n",
    "    tmp = (reshape(ca_neq_xyz[frame] - ca_avg_xyz, 3 * length(ca_indices_cut)))\n",
    "    Vdiff[frame] = tmp / norm(tmp)\n",
    "    # Lo proyecto sobre todos los modos\n",
    "    for i = 1:aa36_cut\n",
    "        dot_vdiff_modes[i, frame] = dot(t0_modes[:, i], Vdiff[frame])\n",
    "    end\n",
    "end\n",
    "# Arregla Nans\n",
    "dot_vdiff_modes[isnan.(dot_vdiff_modes)] = 0"
   ]
  },
  {
   "cell_type": "code",
   "execution_count": 9,
   "metadata": {
    "collapsed": true
   },
   "outputs": [],
   "source": [
    "# Get Pnumbers\n",
    "for frame=1:frame_cnt\n",
    "    pnum_t0[frame] = pnum(dot_vdiff_modes[:, frame])\n",
    "end\n",
    "\n",
    "# Round pnums to next natural number\n",
    "pnum_t0_rounded = convert.(Int64, ceil.(pnum_t0))\n",
    "# Sort modes according to projection against Vdiff\n",
    "top_modes = mapslices(x -> sortperm(x, rev =true), abs.(dot_vdiff_modes), 1);\n",
    "top_modes_indices = map(x -> range(1,x), pnum_t0_rounded);\n",
    "\n",
    "# Get every mode that appears at least once in the essential subspaces\n",
    "pnum_indices_t0_each_frame = Array{Int64, 1}(0)\n",
    "for frame = 1:frame_cnt\n",
    "    pnum_indices_t0_each_frame = [ pnum_indices_t0_each_frame ; top_modes[:, frame][ top_modes_indices[frame] ]  ]\n",
    "end\n",
    "pnum_indices_t0 = sort(unique(pnum_indices_t0_each_frame));"
   ]
  },
  {
   "cell_type": "code",
   "execution_count": 10,
   "metadata": {
    "collapsed": true
   },
   "outputs": [],
   "source": [
    "# Now, instead of sorting modes, sort their projections with Vdiff\n",
    "top_modes_pjtions = mapslices(x -> sort(x, rev =true), abs.(dot_vdiff_modes), 1)\n",
    "\n",
    "# Get projection values for each mode of each subspacec. Later, they 'll be used as weights\n",
    "pnum_pjtions_t0_each_frame = zeros(Float64, aa36_cut, frame_cnt)\n",
    "for frame = 1:frame_cnt\n",
    "    tmp = top_modes[top_modes_indices[frame], frame]\n",
    "    for i = 1:length(tmp)\n",
    "        pnum_pjtions_t0_each_frame[tmp[i], frame] = dot_vdiff_modes[tmp[i], frame]\n",
    "    end\n",
    "end\n",
    "\n",
    "# Con los valores de proyección a c/ frame, puedo sacar el peso de c/ modo p/ todo el paso\n",
    "weights_t0a = reshape(mapslices(x -> mean(x), pnum_pjtions_t0_each_frame.^2, 2), aa36_cut)\n",
    "\n",
    "# Ahora obtengo pesos, pero sólamente teniendo en cuenta la frecuencia de aparición en los subespacios\n",
    "# esenciales de c/ frame\n",
    "not0_each_frame = copy(pnum_pjtions_t0_each_frame)\n",
    "not0_each_frame[not0_each_frame .!= 0.] = 1.\n",
    "weights_t0b = reshape(mapslices(x -> mean(x), not0_each_frame, 2), aa36_cut);"
   ]
  },
  {
   "cell_type": "code",
   "execution_count": 12,
   "metadata": {},
   "outputs": [
    {
     "data": {
      "text/plain": [
       "41-element Array{Int64,1}:\n",
       "  1\n",
       "  2\n",
       "  3\n",
       "  4\n",
       "  5\n",
       "  6\n",
       "  7\n",
       "  8\n",
       "  9\n",
       " 10\n",
       " 11\n",
       " 12\n",
       " 13\n",
       "  ⋮\n",
       " 30\n",
       " 31\n",
       " 32\n",
       " 33\n",
       " 34\n",
       " 36\n",
       " 37\n",
       " 38\n",
       " 39\n",
       " 41\n",
       " 42\n",
       " 65"
      ]
     },
     "execution_count": 12,
     "metadata": {},
     "output_type": "execute_result"
    }
   ],
   "source": [
    "pnum_indices_t0"
   ]
  },
  {
   "cell_type": "code",
   "execution_count": 13,
   "metadata": {
    "collapsed": true
   },
   "outputs": [],
   "source": [
    "# Escribo pesos y indices de pnum modos\n",
    "df_weights_t0a = DataFrame(Mode = collect(1:aa36_cut), Weights = weights_t0a)\n",
    "df_weights_t0b = DataFrame(Mode = collect(1:aa36_cut), Weights = weights_t0b)\n",
    "\n",
    "df_pnum_t0 = DataFrame(Mode = pnum_indices_t0)\n",
    "\n",
    "\n",
    "writetable(string(home, neq, \"pca/t0/\", \"weights_a_neq_t0\"), df_weights_t0a, separator = '\\t')\n",
    "writetable(string(home, neq, \"pca/t0/\", \"weights_b_neq_t0\"), df_weights_t0b, separator = '\\t')\n",
    "writetable(string(home, neq, \"pca/t0/\", \"pnum_eq_t0\"), df_pnum_t0, separator = '\\t')"
   ]
  }
 ],
 "metadata": {
  "kernelspec": {
   "display_name": "Julia 0.6.0",
   "language": "julia",
   "name": "julia-0.6"
  },
  "language_info": {
   "file_extension": ".jl",
   "mimetype": "application/julia",
   "name": "julia",
   "version": "0.6.0"
  }
 },
 "nbformat": 4,
 "nbformat_minor": 2
}
