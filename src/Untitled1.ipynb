{
 "cells": [
  {
   "cell_type": "code",
   "execution_count": 1,
   "metadata": {
    "collapsed": true
   },
   "outputs": [],
   "source": [
    "using Chemfiles"
   ]
  },
  {
   "cell_type": "code",
   "execution_count": 3,
   "metadata": {},
   "outputs": [
    {
     "ename": "LoadError",
     "evalue": "\u001b[91msyntax: extra token \"in_trj\" after end of expression\u001b[39m",
     "output_type": "error",
     "traceback": [
      "\u001b[91msyntax: extra token \"in_trj\" after end of expression\u001b[39m",
      "",
      "Stacktrace:",
      " [1] \u001b[1minclude_string\u001b[22m\u001b[22m\u001b[1m(\u001b[22m\u001b[22m::String, ::String\u001b[1m)\u001b[22m\u001b[22m at \u001b[1m./loading.jl:515\u001b[22m\u001b[22m"
     ]
    }
   ],
   "source": [
    "# Get ready\n",
    "home = \"/home/german/labo/17/pdz/\"\n",
    "neq = \"run/lb/neq/\";\n",
    "natoms = 2076;\n",
    "natoms_pdz = 1944;\n",
    "natoms_lig = natoms - natoms_pdz;\n",
    "\n",
    "# NEQ trajectory\n",
    "frame_cnt = 400;\n",
    "in_trj_filename = string(home, neq, \"starting_frames/\", \"starting_frames.nc\")\n",
    "Chemfiles::Trajectory in_trj(in_trj_filename)\n",
    "\n"
   ]
  },
  {
   "cell_type": "code",
   "execution_count": null,
   "metadata": {
    "collapsed": true
   },
   "outputs": [],
   "source": [
    "in_frms = Array{Chemfiles::Frame}(frame_cnt)\n",
    "in_frms_xyz = Array{Chemfiles::Frame}(frame_cnt)\n",
    "#std::vector<chemfiles::span<chemfiles::Vector3D>> in_frms_xyz(frame_cnt);\n",
    "\n",
    "# Average\n",
    "auto in_avg_filename = string(home, neq, \"pca/t0/\", \"avg_t0_lb.pdb\")\n",
    "Chemfiles::Trajectory in_avg_trj(in_avg_filename);\n",
    "in_avg_frm = in_avg_trj.read();\n",
    "in_avg_frm_xyz = in_avg_frm.positions();"
   ]
  },
  {
   "cell_type": "code",
   "execution_count": null,
   "metadata": {
    "collapsed": true
   },
   "outputs": [],
   "source": []
  },
  {
   "cell_type": "code",
   "execution_count": null,
   "metadata": {
    "collapsed": true
   },
   "outputs": [],
   "source": []
  }
 ],
 "metadata": {
  "kernelspec": {
   "display_name": "Julia 0.6.0",
   "language": "julia",
   "name": "julia-0.6"
  },
  "language_info": {
   "file_extension": ".jl",
   "mimetype": "application/julia",
   "name": "julia",
   "version": "0.6.0"
  }
 },
 "nbformat": 4,
 "nbformat_minor": 2
}
