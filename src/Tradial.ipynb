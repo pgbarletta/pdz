{
 "cells": [
  {
   "cell_type": "code",
   "execution_count": 2,
   "metadata": {},
   "outputs": [],
   "source": [
    "from __future__ import print_function\n",
    "%matplotlib inline\n",
    "import mdtraj as md\n",
    "import numpy as np"
   ]
  },
  {
   "cell_type": "code",
   "execution_count": 53,
   "metadata": {
    "scrolled": true
   },
   "outputs": [],
   "source": [
    "# Get Ready\n",
    "home = \"/home/german/labo/17/pdz/\"\n",
    "traj = md.load(home+\"run/lb/neq/data/tjump/Ttrajplb_2.nc\", top = home+\"top_files/dry_lb.prmtop\")"
   ]
  },
  {
   "cell_type": "code",
   "execution_count": 4,
   "metadata": {},
   "outputs": [],
   "source": [
    "for t in traj:\n",
    "    # Why???\n",
    "    t.xyz = t.xyz * 10\n",
    "    \n",
    "    # Get the first and last atoms of the ligand\n",
    "    first = t.topology.residue(124).atom(0).index\n",
    "    last = t.topology.residue(131).atom(t.topology.residue(131).n_atoms-1).index\n",
    "\n",
    "    # Get the ligand topology\n",
    "    df_lig_top = t.topology.to_dataframe()[0][first:last];\n",
    "    df_lig_top.index = range(len(df_lig_top))\n",
    "    df_lig_top['serial'] = df_lig_top['serial'] - 1944\n",
    "    lig_top = md.Topology.from_dataframe(df_lig_top)\n",
    "\n",
    "    # Get the ligand atoms coordinates\n",
    "    lig_xyz = t.xyz[0, range(first, last)]\n",
    "\n",
    "    # Construct a ligand trajectory \n",
    "    lig_trj = md.Trajectory(lig_xyz, lig_top)\n",
    "\n",
    "    # Get the ligand CM\n",
    "    lig_cm = md.compute_center_of_mass(lig_trj)\n",
    "    \n",
    "    # Get the Calpha atoms indices and coordinates\n",
    "    ca_indices = [a.index for a in t.topology.atoms if a.name == \"CA\" and a.index < first]\n",
    "    ca_xyz = t.xyz[(0, tuple(ca_indices), )]\n",
    "\n",
    "    # Get the Calpha atoms indices and coordinates\n",
    "    lig_ca_indices = [a.index for a in t.topology.atoms if a.name == \"CA\" and a.index > first]\n",
    "    lig_ca_xyz = t.xyz[(0, tuple(lig_ca_indices), )]"
   ]
  },
  {
   "cell_type": "code",
   "execution_count": 82,
   "metadata": {},
   "outputs": [],
   "source": [
    "t = traj[0]\n",
    "t.xyz = t.xyz * 10\n",
    "# Get the first and last atoms of the ligand\n",
    "first = t.topology.residue(124).atom(0).index\n",
    "last = t.topology.residue(131).atom(t.topology.residue(131).n_atoms-1).index\n",
    "\n",
    "# Get the ligand topology\n",
    "df_lig_top = t.topology.to_dataframe()[0][first:last];\n",
    "df_lig_top.index = range(len(df_lig_top))\n",
    "df_lig_top['serial'] = df_lig_top['serial'] - 1944\n",
    "lig_top = md.Topology.from_dataframe(df_lig_top)\n",
    "\n",
    "# Get the ligand atoms coordinates\n",
    "lig_xyz = t.xyz[0, range(first, last)]\n",
    "\n",
    "# Construct a ligand trajectory\n",
    "lig_trj = md.Trajectory(lig_xyz, lig_top)\n",
    "\n",
    "# Get the ligand CM\n",
    "lig_cm_xyz = md.compute_center_of_mass(lig_trj)\n",
    "\n",
    "# Get the Calpha atoms indices and coordinates\n",
    "ca_indices = [a.index for a in t.topology.atoms if a.name == \"CA\" and a.index < first]\n",
    "ca_xyz = t.xyz[(0, tuple(ca_indices), )]\n",
    "\n",
    "# Get the Calpha atoms indices and coordinates\n",
    "lig_ca_indices = [a.index for a in t.topology.atoms if a.name == \"CA\" and a.index > first]\n",
    "lig_ca_xyz = t.xyz[(0, tuple(lig_ca_indices), )]\n",
    "\n",
    "# Distance from ligand center of mass\n",
    "ca_xyz_cm = ca_xyz - lig_cm_xyz\n",
    "dist_cm = np.sqrt((ca_xyz_cm**2).sum(axis=1))"
   ]
  },
  {
   "cell_type": "code",
   "execution_count": 153,
   "metadata": {},
   "outputs": [],
   "source": [
    "#ca_xyz - lig_xyz[0, :]\n",
    "margin_lo = min(dist_cm) * 1.05\n",
    "margin_hi = max(dist_cm) * 1.05\n",
    "step = (margin_hi - margin_lo) / 10\n",
    "bins = np.arange(0, margin_hi, step)\n",
    "bins[len(bins)-1] = margin_hi\n"
   ]
  },
  {
   "cell_type": "code",
   "execution_count": 154,
   "metadata": {},
   "outputs": [
    {
     "data": {
      "text/plain": [
       "array([  0.        ,   4.09249933,   8.18499865,  12.27749798,\n",
       "        16.36999731,  20.46249663,  24.55499596,  28.64749529,\n",
       "        32.73999461,  36.83249394,  43.85973977])"
      ]
     },
     "execution_count": 154,
     "metadata": {},
     "output_type": "execute_result"
    }
   ],
   "source": [
    "bins"
   ]
  },
  {
   "cell_type": "code",
   "execution_count": 162,
   "metadata": {},
   "outputs": [
    {
     "ename": "ValueError",
     "evalue": "The truth value of an array with more than one element is ambiguous. Use a.any() or a.all()",
     "output_type": "error",
     "traceback": [
      "\u001b[0;31m---------------------------------------------------------------------------\u001b[0m",
      "\u001b[0;31mValueError\u001b[0m                                Traceback (most recent call last)",
      "\u001b[0;32m<ipython-input-162-7cbf667d4dc4>\u001b[0m in \u001b[0;36m<module>\u001b[0;34m()\u001b[0m\n\u001b[1;32m      1\u001b[0m \u001b[0mi\u001b[0m \u001b[0;34m=\u001b[0m \u001b[0;36m3\u001b[0m\u001b[0;34m\u001b[0m\u001b[0m\n\u001b[0;32m----> 2\u001b[0;31m \u001b[0;34m(\u001b[0m\u001b[0mdist_cm\u001b[0m \u001b[0;34m<\u001b[0m \u001b[0mbins\u001b[0m\u001b[0;34m[\u001b[0m\u001b[0mi\u001b[0m\u001b[0;34m]\u001b[0m\u001b[0;34m)\u001b[0m \u001b[0;32mand\u001b[0m \u001b[0;34m(\u001b[0m\u001b[0mdist_cm\u001b[0m \u001b[0;34m>\u001b[0m \u001b[0mbins\u001b[0m\u001b[0;34m[\u001b[0m\u001b[0mi\u001b[0m\u001b[0;34m-\u001b[0m\u001b[0;36m1\u001b[0m\u001b[0;34m]\u001b[0m\u001b[0;34m)\u001b[0m\u001b[0;34m\u001b[0m\u001b[0m\n\u001b[0m",
      "\u001b[0;31mValueError\u001b[0m: The truth value of an array with more than one element is ambiguous. Use a.any() or a.all()"
     ]
    }
   ],
   "source": [
    "i = 3\n",
    "(dist_cm < bins[i]) and (dist_cm > bins[i-1])"
   ]
  },
  {
   "cell_type": "code",
   "execution_count": 159,
   "metadata": {},
   "outputs": [
    {
     "data": {
      "text/plain": [
       "4.0924993267065162"
      ]
     },
     "execution_count": 159,
     "metadata": {},
     "output_type": "execute_result"
    }
   ],
   "source": [
    "(bins[i] - bins[i-1])"
   ]
  },
  {
   "cell_type": "code",
   "execution_count": 149,
   "metadata": {},
   "outputs": [
    {
     "data": {
      "text/plain": [
       "2.7949966696868676"
      ]
     },
     "execution_count": 149,
     "metadata": {},
     "output_type": "execute_result"
    }
   ],
   "source": [
    "min(dist_cm)"
   ]
  },
  {
   "cell_type": "code",
   "execution_count": 148,
   "metadata": {},
   "outputs": [
    {
     "data": {
      "text/plain": [
       "2.6552468362025241"
      ]
     },
     "execution_count": 148,
     "metadata": {},
     "output_type": "execute_result"
    }
   ],
   "source": [
    "bins[0]"
   ]
  }
 ],
 "metadata": {
  "kernelspec": {
   "display_name": "Python 3",
   "language": "python",
   "name": "python3"
  },
  "language_info": {
   "codemirror_mode": {
    "name": "ipython",
    "version": 3
   },
   "file_extension": ".py",
   "mimetype": "text/x-python",
   "name": "python",
   "nbconvert_exporter": "python",
   "pygments_lexer": "ipython3",
   "version": "3.6.1"
  }
 },
 "nbformat": 4,
 "nbformat_minor": 2
}
