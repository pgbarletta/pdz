{
 "cells": [
  {
   "cell_type": "markdown",
   "metadata": {},
   "source": [
    ".L libchemfiles\n",
    ".I /home/german/shared_chemfiles/build/install/include\n",
    "#include <chemfiles.hpp>\n",
    "#include <array>\n",
    "#include <iostream>"
   ]
  },
  {
   "cell_type": "code",
   "execution_count": 1,
   "metadata": {},
   "outputs": [
    {
     "data": {
      "text/plain": []
     },
     "execution_count": 1,
     "metadata": {},
     "output_type": "execute_result"
    }
   ],
   "source": [
    ".L /home/german/labo/17/chemfiles/build/install/lib/libchemfiles.so"
   ]
  },
  {
   "cell_type": "code",
   "execution_count": 2,
   "metadata": {},
   "outputs": [
    {
     "data": {
      "text/plain": []
     },
     "execution_count": 2,
     "metadata": {},
     "output_type": "execute_result"
    }
   ],
   "source": [
    ".I /home/german/labo/17/chemfiles/build/install/include"
   ]
  },
  {
   "cell_type": "code",
   "execution_count": 3,
   "metadata": {},
   "outputs": [
    {
     "data": {
      "text/plain": []
     },
     "execution_count": 3,
     "metadata": {},
     "output_type": "execute_result"
    }
   ],
   "source": [
    "#include <chemfiles.hpp>\n",
    "#include <array>\n",
    "#include <iostream>"
   ]
  },
  {
   "cell_type": "code",
   "execution_count": 4,
   "metadata": {},
   "outputs": [
    {
     "data": {
      "text/plain": []
     },
     "execution_count": 4,
     "metadata": {},
     "output_type": "execute_result"
    }
   ],
   "source": [
    "struct v3 {\n",
    "    v3(double x, double y, double z) { xyz_ = { x, y, z }; }\n",
    "\n",
    "    const double& x() const {return xyz_[0];}\n",
    "    const double& y() const {return xyz_[1];}\n",
    "    const double& z() const {return xyz_[2];}\n",
    "\n",
    "    v3 operator+(const v3& in_v3) {\n",
    "        return v3(xyz_[0] + in_v3.x(), xyz_[1] + in_v3.y(), xyz_[2] + in_v3.z());\n",
    "    }\n",
    "    \n",
    "    v3 operator-(const v3& in_v3) {\n",
    "        return v3(xyz_[0] - in_v3.x(), xyz_[1] - in_v3.y(), xyz_[2] - in_v3.z());\n",
    "    }\n",
    "\n",
    "    std::array<double, 3> xyz_;\n",
    "}"
   ]
  },
  {
   "cell_type": "code",
   "execution_count": 5,
   "metadata": {},
   "outputs": [
    {
     "data": {
      "text/plain": []
     },
     "execution_count": 5,
     "metadata": {},
     "output_type": "execute_result"
    }
   ],
   "source": [
    "struct m3 {\n",
    "    std::vector<v3> VecXyz_;\n",
    "}"
   ]
  },
  {
   "cell_type": "code",
   "execution_count": 6,
   "metadata": {},
   "outputs": [
    {
     "data": {
      "text/plain": []
     },
     "execution_count": 6,
     "metadata": {},
     "output_type": "execute_result"
    }
   ],
   "source": [
    "// Get ready\n",
    "std::string home = \"/home/german/labo/17/pdz/\";\n",
    "std::string neq = \"run/lb/neq/\";\n",
    "auto natoms = 2076;\n",
    "auto natoms_pdz = 1944;\n",
    "auto natoms_lig = natoms - natoms_pdz;\n",
    "\n",
    "// NEQ trajectory\n",
    "const static int frame_cnt = 400;\n",
    "auto in_trj_filename = home + neq + \"starting_frames/\" + \"starting_frames.nc\";\n",
    "chemfiles::Trajectory in_trj(in_trj_filename);\n",
    "std::vector<chemfiles::Frame> in_frms(frame_cnt);\n",
    "std::vector<chemfiles::span<chemfiles::Vector3D>> in_frms_xyz(frame_cnt);\n",
    "\n",
    "// Average\n",
    "auto in_avg_filename = home + neq + \"pca/t0/\" + \"avg_t0_lb.pdb\";\n",
    "chemfiles::Trajectory in_avg_trj(in_avg_filename);\n",
    "auto in_avg_frm = in_avg_trj.read();\n",
    "chemfiles::span<chemfiles::Vector3D> in_avg_frm_xyz = in_avg_frm.positions();"
   ]
  },
  {
   "cell_type": "markdown",
   "metadata": {},
   "source": [
    "std::vector<std::vector<double>> in_xyz(frame_cnt);\n",
    "auto cnt = 0;\n",
    "//for (size_t frame = 0 ; frame < frame_cnt ; ++frame) {\n",
    "    size_t frame = 0;\n",
    "    std::vector<double> vdiff(natoms_pdz * 3);\n",
    "    in_frms[frame] = in_trj.read();\n",
    "    in_frms_xyz[frame] = in_frms[frame].positions();\n",
    "    for (size_t i = 0 ; i < natoms_pdz ; ++i) {\n",
    "\n",
    "        auto vec_neq = in_frms_xyz[frame][i];\n",
    "        auto vec_avg = in_avg_frm_xyz[i];\n",
    "        auto tmp = vec_neq - vec_avg;\n",
    "        vdiff[cnt++] = tmp[0];\n",
    "        vdiff[cnt++] = tmp[1];\n",
    "        vdiff[cnt++] = tmp[2];\n",
    "    }\n",
    "    in_xyz[frame] = vdiff;\n",
    "//}"
   ]
  },
  {
   "cell_type": "code",
   "execution_count": null,
   "metadata": {
    "collapsed": true
   },
   "outputs": [],
   "source": []
  }
 ],
 "metadata": {
  "kernelspec": {
   "display_name": "C++14",
   "language": "",
   "name": "cling-cpp14"
  },
  "language_info": {
   "codemirror_mode": "c++",
   "file_extension": ".c++",
   "mimetype": "text/x-c++src",
   "name": "c++"
  }
 },
 "nbformat": 4,
 "nbformat_minor": 2
}
